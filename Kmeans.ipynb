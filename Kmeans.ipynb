{
 "cells": [
  {
   "cell_type": "code",
   "execution_count": 56,
   "metadata": {},
   "outputs": [],
   "source": [
    "from __future__ import print_function\n",
    "import argparse\n",
    "import torch\n",
    "import torch.nn as nn\n",
    "import torch.nn.functional as F\n",
    "import torch.optim as optim\n",
    "from torchvision import datasets, transforms\n",
    "from torch.utils.data import random_split\n",
    "from torch.autograd import Variable\n",
    "import torchvision\n",
    "import os\n",
    "import random\n",
    "from sklearn.metrics import normalized_mutual_info_score"
   ]
  },
  {
   "cell_type": "code",
   "execution_count": 57,
   "metadata": {},
   "outputs": [],
   "source": [
    "import pandas as pd # pandas is a data manipulation library\n",
    "import numpy as np #provides numerical arrays and functions to manipulate the arrays efficiently\n",
    "import matplotlib.pyplot as plt # data visualization library\n",
    "import sklearn\n",
    "from sklearn.datasets import fetch_olivetti_faces"
   ]
  },
  {
   "cell_type": "markdown",
   "metadata": {},
   "source": [
    "# Exercise : Convolution Neural Network"
   ]
  },
  {
   "cell_type": "code",
   "execution_count": 58,
   "metadata": {},
   "outputs": [],
   "source": [
    "def seed_everything(seed=42):\n",
    "    random.seed(seed)\n",
    "    os.environ['PYTHONHASHSEED'] = str(seed)\n",
    "    torch.manual_seed(seed)\n",
    "    torch.cuda.manual_seed(seed)\n",
    "    np.random.seed(seed)\n",
    "    torch.backends.cudnn.benchmark = False\n",
    "    torch.backends.cudnn.deterministic = True"
   ]
  },
  {
   "cell_type": "code",
   "execution_count": 59,
   "metadata": {},
   "outputs": [],
   "source": [
    "# Download data and define the transformer (data normalization)\n",
    "# Do not change this function\n",
    "def load_data(seed_value=42):\n",
    "    MNIST_normalize = transforms.Normalize((0.1307,), (0.3081,))\n",
    "    MNIST_transform = transforms.Compose([\n",
    "      transforms.ToTensor(),\n",
    "      MNIST_normalize\n",
    "    ])\n",
    "\n",
    "    # MNIST Dataset\n",
    "    train = datasets.MNIST(root='./data/',\n",
    "                                train=True,\n",
    "                                transform=MNIST_transform,\n",
    "                                download=True)\n",
    "\n",
    "    test = datasets.MNIST(root='./data/',\n",
    "                                train=False,\n",
    "                                transform=MNIST_transform)\n",
    "\n",
    "    #print(valid.dataset.data.shape)\n",
    "    train_subset_size = 5000\n",
    "    train.data = train.data[0:train_subset_size]\n",
    "    train.targets = train.targets[0:train_subset_size]\n",
    "\n",
    "    train_size = int(0.9 * train_subset_size)\n",
    "    val_size =  int(0.1 * train_subset_size)\n",
    "    print(\"train_set_size:\", train_size)\n",
    "    print(\"val_set_size:\", val_size)\n",
    "\n",
    "    train, valid = random_split(train, [train_size, val_size], generator=torch.Generator().manual_seed(seed_value))\n",
    "\n",
    "    return train, valid, test"
   ]
  },
  {
   "cell_type": "code",
   "execution_count": 60,
   "metadata": {},
   "outputs": [],
   "source": [
    "# Function to show data\n",
    "def imshow(img):\n",
    "    npimg = img.numpy()\n",
    "    plt.imshow(np.transpose(npimg, (1, 2, 0)))\n",
    "    plt.show()"
   ]
  },
  {
   "cell_type": "code",
   "execution_count": 61,
   "metadata": {},
   "outputs": [],
   "source": [
    "# Data Loader \n",
    "def get_data_loaders(dataset, batch_size, shuffle=True):\n",
    "    loader = torch.utils.data.DataLoader(dataset=dataset,\n",
    "                                            batch_size=batch_size,\n",
    "                                            shuffle=shuffle)\n",
    "    return loader"
   ]
  },
  {
   "cell_type": "code",
   "execution_count": 62,
   "metadata": {},
   "outputs": [],
   "source": [
    "# Model\n",
    "class Conv_Net(nn.Module):\n",
    "    def __init__(self, dropout_value=0.5):\n",
    "        super(Conv_Net, self).__init__()\n",
    "        self.conv1 = nn.Conv2d(1, 128, kernel_size=3)\n",
    "        self.conv2 = nn.Conv2d(128, 256, kernel_size=3)\n",
    "        self.mp = nn.MaxPool2d(2)\n",
    "        self.drop = nn.Dropout(dropout_value)\n",
    "        self.fc = nn.Linear(6400, 10)\n",
    "\n",
    "    def forward(self, x):\n",
    "        in_size = x.size(0)\n",
    "        x = F.relu(self.mp(self.conv1(x)))\n",
    "        x = F.relu(self.mp(self.conv2(x)))\n",
    "        x = x.view(in_size, -1)  # flatten the tensor\n",
    "        x = self.drop(x)\n",
    "        x = self.fc(x)\n",
    "        return F.log_softmax(x)"
   ]
  },
  {
   "cell_type": "code",
   "execution_count": 63,
   "metadata": {},
   "outputs": [],
   "source": [
    "# Run one training epoch\n",
    "def train(epoch, train_loader, device):\n",
    "    model.train()\n",
    "    for batch_idx, (data, target) in enumerate(train_loader):\n",
    "        data, target = Variable(data).to(device), Variable(target).to(device)\n",
    "        optimizer.zero_grad()\n",
    "        output = model(data)\n",
    "        loss = F.nll_loss(output, target)\n",
    "        loss.backward()\n",
    "        optimizer.step()\n",
    "        if batch_idx % 10 == 0:\n",
    "            print('Train Epoch: {} [{}/{} ({:.0f}%)]\\tLoss: {:.6f}'.format(\n",
    "                epoch, batch_idx * len(data), len(train_loader.dataset),\n",
    "                100. * batch_idx / len(train_loader), loss.data))\n"
   ]
  },
  {
   "cell_type": "code",
   "execution_count": 64,
   "metadata": {},
   "outputs": [],
   "source": [
    "# Compute metrics\n",
    "def test(test_loader, device, is_train_set=True):\n",
    "    model.eval()\n",
    "    test_loss = 0\n",
    "    correct = 0\n",
    "    with torch.no_grad():\n",
    "        for data, target in test_loader:\n",
    "            data, target = Variable(data).to(device), Variable(target).to(device)\n",
    "            output = model(data)\n",
    "            # sum up batch loss\n",
    "            test_loss += F.nll_loss(output, target, size_average=False).data\n",
    "            # get the index of the max log-probability\n",
    "            pred = output.data.max(1, keepdim=True)[1]\n",
    "            correct += pred.eq(target.data.view_as(pred)).cpu().sum()\n",
    "\n",
    "    test_loss /= len(test_loader.dataset)\n",
    "    print('\\n{}: Average loss: {:.4f}, Accuracy: {}/{} ({:.0f}%)\\n'.format(\n",
    "        'Train evaluation' if is_train_set else 'Val/Test evaluation', test_loss, correct, len(test_loader.dataset),\n",
    "        100. * correct / len(test_loader.dataset)))"
   ]
  },
  {
   "cell_type": "code",
   "execution_count": 65,
   "metadata": {},
   "outputs": [
    {
     "name": "stdout",
     "output_type": "stream",
     "text": [
      "train_set_size: 4500\n",
      "val_set_size: 500\n",
      "Train Epoch: 1 [0/4500 (0%)]\tLoss: 2.338832\n"
     ]
    },
    {
     "name": "stderr",
     "output_type": "stream",
     "text": [
      "C:\\Users\\mingy\\AppData\\Local\\Temp\\ipykernel_3624\\1825828453.py:18: UserWarning: Implicit dimension choice for log_softmax has been deprecated. Change the call to include dim=X as an argument.\n",
      "  return F.log_softmax(x)\n"
     ]
    },
    {
     "name": "stdout",
     "output_type": "stream",
     "text": [
      "Train Epoch: 1 [1280/4500 (28%)]\tLoss: 3.472323\n",
      "Train Epoch: 1 [2560/4500 (56%)]\tLoss: 1.623172\n",
      "Train Epoch: 1 [3840/4500 (83%)]\tLoss: 0.983392\n"
     ]
    },
    {
     "name": "stderr",
     "output_type": "stream",
     "text": [
      "c:\\Users\\mingy\\OneDrive\\Documents\\anaconda\\lib\\site-packages\\torch\\nn\\_reduction.py:42: UserWarning: size_average and reduce args will be deprecated, please use reduction='sum' instead.\n",
      "  warnings.warn(warning.format(ret))\n"
     ]
    },
    {
     "name": "stdout",
     "output_type": "stream",
     "text": [
      "\n",
      "Train evaluation: Average loss: 0.4742, Accuracy: 3901/4500 (87%)\n",
      "\n",
      "\n",
      "Val/Test evaluation: Average loss: 0.5751, Accuracy: 420/500 (84%)\n",
      "\n",
      "Train Epoch: 2 [0/4500 (0%)]\tLoss: 0.411350\n",
      "Train Epoch: 2 [1280/4500 (28%)]\tLoss: 0.436917\n",
      "Train Epoch: 2 [2560/4500 (56%)]\tLoss: 0.459639\n",
      "Train Epoch: 2 [3840/4500 (83%)]\tLoss: 0.276444\n",
      "\n",
      "Train evaluation: Average loss: 0.3300, Accuracy: 4115/4500 (91%)\n",
      "\n",
      "\n",
      "Val/Test evaluation: Average loss: 0.4669, Accuracy: 436/500 (87%)\n",
      "\n",
      "Train Epoch: 3 [0/4500 (0%)]\tLoss: 0.428256\n",
      "Train Epoch: 3 [1280/4500 (28%)]\tLoss: 0.307650\n",
      "Train Epoch: 3 [2560/4500 (56%)]\tLoss: 0.058620\n",
      "Train Epoch: 3 [3840/4500 (83%)]\tLoss: 0.310271\n",
      "\n",
      "Train evaluation: Average loss: 0.1830, Accuracy: 4265/4500 (95%)\n",
      "\n",
      "\n",
      "Val/Test evaluation: Average loss: 0.2955, Accuracy: 460/500 (92%)\n",
      "\n",
      "Train Epoch: 4 [0/4500 (0%)]\tLoss: 0.250310\n",
      "Train Epoch: 4 [1280/4500 (28%)]\tLoss: 0.207581\n",
      "Train Epoch: 4 [2560/4500 (56%)]\tLoss: 0.337184\n",
      "Train Epoch: 4 [3840/4500 (83%)]\tLoss: 0.187362\n",
      "\n",
      "Train evaluation: Average loss: 0.1752, Accuracy: 4312/4500 (96%)\n",
      "\n",
      "\n",
      "Val/Test evaluation: Average loss: 0.3664, Accuracy: 465/500 (93%)\n",
      "\n",
      "Train Epoch: 5 [0/4500 (0%)]\tLoss: 0.119593\n",
      "Train Epoch: 5 [1280/4500 (28%)]\tLoss: 0.168856\n",
      "Train Epoch: 5 [2560/4500 (56%)]\tLoss: 0.124258\n",
      "Train Epoch: 5 [3840/4500 (83%)]\tLoss: 0.237583\n",
      "\n",
      "Train evaluation: Average loss: 0.1148, Accuracy: 4357/4500 (97%)\n",
      "\n",
      "\n",
      "Val/Test evaluation: Average loss: 0.2545, Accuracy: 467/500 (93%)\n",
      "\n",
      "Train Epoch: 6 [0/4500 (0%)]\tLoss: 0.129035\n",
      "Train Epoch: 6 [1280/4500 (28%)]\tLoss: 0.029955\n",
      "Train Epoch: 6 [2560/4500 (56%)]\tLoss: 0.154631\n",
      "Train Epoch: 6 [3840/4500 (83%)]\tLoss: 0.124232\n",
      "\n",
      "Train evaluation: Average loss: 0.0984, Accuracy: 4368/4500 (97%)\n",
      "\n",
      "\n",
      "Val/Test evaluation: Average loss: 0.3213, Accuracy: 467/500 (93%)\n",
      "\n",
      "Train Epoch: 7 [0/4500 (0%)]\tLoss: 0.064227\n",
      "Train Epoch: 7 [1280/4500 (28%)]\tLoss: 0.129016\n",
      "Train Epoch: 7 [2560/4500 (56%)]\tLoss: 0.302381\n",
      "Train Epoch: 7 [3840/4500 (83%)]\tLoss: 0.148019\n",
      "\n",
      "Train evaluation: Average loss: 0.1055, Accuracy: 4383/4500 (97%)\n",
      "\n",
      "\n",
      "Val/Test evaluation: Average loss: 0.2382, Accuracy: 474/500 (95%)\n",
      "\n",
      "Train Epoch: 8 [0/4500 (0%)]\tLoss: 0.039186\n",
      "Train Epoch: 8 [1280/4500 (28%)]\tLoss: 0.094679\n",
      "Train Epoch: 8 [2560/4500 (56%)]\tLoss: 0.050610\n",
      "Train Epoch: 8 [3840/4500 (83%)]\tLoss: 0.175073\n",
      "\n",
      "Train evaluation: Average loss: 0.0582, Accuracy: 4426/4500 (98%)\n",
      "\n",
      "\n",
      "Val/Test evaluation: Average loss: 0.2019, Accuracy: 480/500 (96%)\n",
      "\n",
      "Train Epoch: 9 [0/4500 (0%)]\tLoss: 0.137294\n",
      "Train Epoch: 9 [1280/4500 (28%)]\tLoss: 0.110036\n",
      "Train Epoch: 9 [2560/4500 (56%)]\tLoss: 0.051053\n",
      "Train Epoch: 9 [3840/4500 (83%)]\tLoss: 0.428960\n",
      "\n",
      "Train evaluation: Average loss: 0.0671, Accuracy: 4407/4500 (98%)\n",
      "\n",
      "\n",
      "Val/Test evaluation: Average loss: 0.2427, Accuracy: 470/500 (94%)\n",
      "\n",
      "Train Epoch: 10 [0/4500 (0%)]\tLoss: 0.049434\n",
      "Train Epoch: 10 [1280/4500 (28%)]\tLoss: 0.113035\n",
      "Train Epoch: 10 [2560/4500 (56%)]\tLoss: 0.033853\n",
      "Train Epoch: 10 [3840/4500 (83%)]\tLoss: 0.027821\n",
      "\n",
      "Train evaluation: Average loss: 0.0394, Accuracy: 4441/4500 (99%)\n",
      "\n",
      "\n",
      "Val/Test evaluation: Average loss: 0.1766, Accuracy: 473/500 (95%)\n",
      "\n",
      "Train Epoch: 11 [0/4500 (0%)]\tLoss: 0.015730\n",
      "Train Epoch: 11 [1280/4500 (28%)]\tLoss: 0.007182\n",
      "Train Epoch: 11 [2560/4500 (56%)]\tLoss: 0.022016\n",
      "Train Epoch: 11 [3840/4500 (83%)]\tLoss: 0.000930\n",
      "\n",
      "Train evaluation: Average loss: 0.0153, Accuracy: 4480/4500 (100%)\n",
      "\n",
      "\n",
      "Val/Test evaluation: Average loss: 0.1736, Accuracy: 483/500 (97%)\n",
      "\n",
      "Train Epoch: 12 [0/4500 (0%)]\tLoss: 0.024750\n",
      "Train Epoch: 12 [1280/4500 (28%)]\tLoss: 0.042374\n",
      "Train Epoch: 12 [2560/4500 (56%)]\tLoss: 0.117485\n",
      "Train Epoch: 12 [3840/4500 (83%)]\tLoss: 0.159764\n",
      "\n",
      "Train evaluation: Average loss: 0.0389, Accuracy: 4444/4500 (99%)\n",
      "\n",
      "\n",
      "Val/Test evaluation: Average loss: 0.1523, Accuracy: 480/500 (96%)\n",
      "\n",
      "Train Epoch: 13 [0/4500 (0%)]\tLoss: 0.082485\n",
      "Train Epoch: 13 [1280/4500 (28%)]\tLoss: 0.194960\n",
      "Train Epoch: 13 [2560/4500 (56%)]\tLoss: 0.117319\n",
      "Train Epoch: 13 [3840/4500 (83%)]\tLoss: 0.041416\n",
      "\n",
      "Train evaluation: Average loss: 0.0983, Accuracy: 4402/4500 (98%)\n",
      "\n",
      "\n",
      "Val/Test evaluation: Average loss: 0.2458, Accuracy: 477/500 (95%)\n",
      "\n",
      "Train Epoch: 14 [0/4500 (0%)]\tLoss: 0.060208\n",
      "Train Epoch: 14 [1280/4500 (28%)]\tLoss: 0.094425\n",
      "Train Epoch: 14 [2560/4500 (56%)]\tLoss: 0.145265\n",
      "Train Epoch: 14 [3840/4500 (83%)]\tLoss: 0.044816\n",
      "\n",
      "Train evaluation: Average loss: 0.0255, Accuracy: 4456/4500 (99%)\n",
      "\n",
      "\n",
      "Val/Test evaluation: Average loss: 0.1801, Accuracy: 483/500 (97%)\n",
      "\n",
      "\n",
      "Val/Test evaluation: Average loss: 0.1980, Accuracy: 9621/10000 (96%)\n",
      "\n"
     ]
    }
   ],
   "source": [
    "# Use the default seed\n",
    "seed_everything(seed=42)\n",
    "\n",
    "# Training settings\n",
    "batch_size = 128\n",
    "lr = 0.1\n",
    "momentum = 0.9 \n",
    "l2 = 0.0\n",
    "dropout_value = 0.0\n",
    "num_epochs = 15\n",
    "\n",
    "# Select the device\n",
    "# device = 'cuda'\n",
    "device = 'cpu'\n",
    "\n",
    "# Define the network\n",
    "model = Conv_Net(dropout_value).to(device)\n",
    "\n",
    "# Define the optimizer \n",
    "optimizer = optim.SGD(model.parameters(), lr=lr, momentum=momentum, weight_decay= l2)\n",
    "\n",
    "train_dataset, val_dataset, test_dataset = load_data()\n",
    "\n",
    "# Divide the available data into training and validation datasets\n",
    "train_loader = get_data_loaders(train_dataset, batch_size, shuffle=True)\n",
    "val_loader = get_data_loaders(val_dataset, batch_size, shuffle=False)\n",
    "test_loader = get_data_loaders(test_dataset, batch_size, shuffle=False)\n",
    "\n",
    "# Run the training epochs\n",
    "for epoch in range(1, num_epochs):\n",
    "    train(epoch, train_loader, device)\n",
    "    test(train_loader, device, is_train_set=True)\n",
    "    test(val_loader, device, is_train_set=False)\n",
    "\n",
    "# Compute the metrics using the testing dataset\n",
    "test(test_loader, device, is_train_set=False)"
   ]
  },
  {
   "cell_type": "code",
   "execution_count": 66,
   "metadata": {},
   "outputs": [
    {
     "name": "stdout",
     "output_type": "stream",
     "text": [
      "train_set_size: 4500\n",
      "val_set_size: 500\n",
      "Train Epoch: 1 [0/4500 (0%)]\tLoss: 2.387906\n"
     ]
    },
    {
     "name": "stderr",
     "output_type": "stream",
     "text": [
      "C:\\Users\\mingy\\AppData\\Local\\Temp\\ipykernel_3624\\1825828453.py:18: UserWarning: Implicit dimension choice for log_softmax has been deprecated. Change the call to include dim=X as an argument.\n",
      "  return F.log_softmax(x)\n"
     ]
    },
    {
     "name": "stdout",
     "output_type": "stream",
     "text": [
      "Train Epoch: 1 [1280/4500 (28%)]\tLoss: 1.876028\n",
      "Train Epoch: 1 [2560/4500 (56%)]\tLoss: 1.045734\n",
      "Train Epoch: 1 [3840/4500 (83%)]\tLoss: 1.068790\n",
      "\n",
      "Train evaluation: Average loss: 0.9100, Accuracy: 3581/4500 (80%)\n",
      "\n",
      "\n",
      "Val/Test evaluation: Average loss: 0.9994, Accuracy: 386/500 (77%)\n",
      "\n",
      "Train Epoch: 2 [0/4500 (0%)]\tLoss: 1.148326\n",
      "Train Epoch: 2 [1280/4500 (28%)]\tLoss: 0.773733\n",
      "Train Epoch: 2 [2560/4500 (56%)]\tLoss: 0.558351\n",
      "Train Epoch: 2 [3840/4500 (83%)]\tLoss: 0.390689\n",
      "\n",
      "Train evaluation: Average loss: 0.2433, Accuracy: 4195/4500 (93%)\n",
      "\n",
      "\n",
      "Val/Test evaluation: Average loss: 0.2471, Accuracy: 463/500 (93%)\n",
      "\n",
      "Train Epoch: 3 [0/4500 (0%)]\tLoss: 0.534245\n",
      "Train Epoch: 3 [1280/4500 (28%)]\tLoss: 0.354335\n",
      "Train Epoch: 3 [2560/4500 (56%)]\tLoss: 0.428390\n",
      "Train Epoch: 3 [3840/4500 (83%)]\tLoss: 0.450783\n",
      "\n",
      "Train evaluation: Average loss: 0.1522, Accuracy: 4288/4500 (95%)\n",
      "\n",
      "\n",
      "Val/Test evaluation: Average loss: 0.1598, Accuracy: 466/500 (93%)\n",
      "\n",
      "Train Epoch: 4 [0/4500 (0%)]\tLoss: 0.386017\n",
      "Train Epoch: 4 [1280/4500 (28%)]\tLoss: 0.249650\n",
      "Train Epoch: 4 [2560/4500 (56%)]\tLoss: 0.152688\n",
      "Train Epoch: 4 [3840/4500 (83%)]\tLoss: 0.349677\n",
      "\n",
      "Train evaluation: Average loss: 0.0916, Accuracy: 4400/4500 (98%)\n",
      "\n",
      "\n",
      "Val/Test evaluation: Average loss: 0.1152, Accuracy: 481/500 (96%)\n",
      "\n",
      "Train Epoch: 5 [0/4500 (0%)]\tLoss: 0.086739\n",
      "Train Epoch: 5 [1280/4500 (28%)]\tLoss: 0.120934\n",
      "Train Epoch: 5 [2560/4500 (56%)]\tLoss: 0.259616\n",
      "Train Epoch: 5 [3840/4500 (83%)]\tLoss: 0.094768\n",
      "\n",
      "Train evaluation: Average loss: 0.0889, Accuracy: 4378/4500 (97%)\n",
      "\n",
      "\n",
      "Val/Test evaluation: Average loss: 0.1198, Accuracy: 479/500 (96%)\n",
      "\n",
      "Train Epoch: 6 [0/4500 (0%)]\tLoss: 0.248463\n",
      "Train Epoch: 6 [1280/4500 (28%)]\tLoss: 0.085922\n",
      "Train Epoch: 6 [2560/4500 (56%)]\tLoss: 0.174603\n",
      "Train Epoch: 6 [3840/4500 (83%)]\tLoss: 0.139881\n",
      "\n",
      "Train evaluation: Average loss: 0.0847, Accuracy: 4388/4500 (98%)\n",
      "\n",
      "\n",
      "Val/Test evaluation: Average loss: 0.1173, Accuracy: 480/500 (96%)\n",
      "\n",
      "Train Epoch: 7 [0/4500 (0%)]\tLoss: 0.126471\n",
      "Train Epoch: 7 [1280/4500 (28%)]\tLoss: 0.208343\n",
      "Train Epoch: 7 [2560/4500 (56%)]\tLoss: 0.131475\n",
      "Train Epoch: 7 [3840/4500 (83%)]\tLoss: 0.144483\n",
      "\n",
      "Train evaluation: Average loss: 0.0655, Accuracy: 4413/4500 (98%)\n",
      "\n",
      "\n",
      "Val/Test evaluation: Average loss: 0.1136, Accuracy: 485/500 (97%)\n",
      "\n",
      "Train Epoch: 8 [0/4500 (0%)]\tLoss: 0.185906\n",
      "Train Epoch: 8 [1280/4500 (28%)]\tLoss: 0.115084\n",
      "Train Epoch: 8 [2560/4500 (56%)]\tLoss: 0.064363\n",
      "Train Epoch: 8 [3840/4500 (83%)]\tLoss: 0.167764\n",
      "\n",
      "Train evaluation: Average loss: 0.0678, Accuracy: 4415/4500 (98%)\n",
      "\n",
      "\n",
      "Val/Test evaluation: Average loss: 0.0855, Accuracy: 486/500 (97%)\n",
      "\n",
      "Train Epoch: 9 [0/4500 (0%)]\tLoss: 0.196248\n",
      "Train Epoch: 9 [1280/4500 (28%)]\tLoss: 0.123934\n",
      "Train Epoch: 9 [2560/4500 (56%)]\tLoss: 0.063643\n",
      "Train Epoch: 9 [3840/4500 (83%)]\tLoss: 0.276320\n",
      "\n",
      "Train evaluation: Average loss: 0.0378, Accuracy: 4454/4500 (99%)\n",
      "\n",
      "\n",
      "Val/Test evaluation: Average loss: 0.0628, Accuracy: 491/500 (98%)\n",
      "\n",
      "Train Epoch: 10 [0/4500 (0%)]\tLoss: 0.089149\n",
      "Train Epoch: 10 [1280/4500 (28%)]\tLoss: 0.163878\n",
      "Train Epoch: 10 [2560/4500 (56%)]\tLoss: 0.122230\n",
      "Train Epoch: 10 [3840/4500 (83%)]\tLoss: 0.245287\n",
      "\n",
      "Train evaluation: Average loss: 0.0425, Accuracy: 4449/4500 (99%)\n",
      "\n",
      "\n",
      "Val/Test evaluation: Average loss: 0.1064, Accuracy: 485/500 (97%)\n",
      "\n",
      "Train Epoch: 11 [0/4500 (0%)]\tLoss: 0.111035\n",
      "Train Epoch: 11 [1280/4500 (28%)]\tLoss: 0.249359\n",
      "Train Epoch: 11 [2560/4500 (56%)]\tLoss: 0.242927\n",
      "Train Epoch: 11 [3840/4500 (83%)]\tLoss: 0.104515\n",
      "\n",
      "Train evaluation: Average loss: 0.0282, Accuracy: 4465/4500 (99%)\n",
      "\n",
      "\n",
      "Val/Test evaluation: Average loss: 0.0680, Accuracy: 488/500 (98%)\n",
      "\n",
      "Train Epoch: 12 [0/4500 (0%)]\tLoss: 0.038867\n",
      "Train Epoch: 12 [1280/4500 (28%)]\tLoss: 0.050116\n",
      "Train Epoch: 12 [2560/4500 (56%)]\tLoss: 0.121672\n",
      "Train Epoch: 12 [3840/4500 (83%)]\tLoss: 0.081540\n",
      "\n",
      "Train evaluation: Average loss: 0.0341, Accuracy: 4453/4500 (99%)\n",
      "\n",
      "\n",
      "Val/Test evaluation: Average loss: 0.0858, Accuracy: 484/500 (97%)\n",
      "\n",
      "Train Epoch: 13 [0/4500 (0%)]\tLoss: 0.066978\n",
      "Train Epoch: 13 [1280/4500 (28%)]\tLoss: 0.078642\n",
      "Train Epoch: 13 [2560/4500 (56%)]\tLoss: 0.072506\n",
      "Train Epoch: 13 [3840/4500 (83%)]\tLoss: 0.140650\n",
      "\n",
      "Train evaluation: Average loss: 0.0233, Accuracy: 4470/4500 (99%)\n",
      "\n",
      "\n",
      "Val/Test evaluation: Average loss: 0.0702, Accuracy: 490/500 (98%)\n",
      "\n",
      "Train Epoch: 14 [0/4500 (0%)]\tLoss: 0.111179\n",
      "Train Epoch: 14 [1280/4500 (28%)]\tLoss: 0.051302\n",
      "Train Epoch: 14 [2560/4500 (56%)]\tLoss: 0.047297\n",
      "Train Epoch: 14 [3840/4500 (83%)]\tLoss: 0.066041\n",
      "\n",
      "Train evaluation: Average loss: 0.0174, Accuracy: 4478/4500 (100%)\n",
      "\n",
      "\n",
      "Val/Test evaluation: Average loss: 0.0737, Accuracy: 488/500 (98%)\n",
      "\n",
      "\n",
      "Val/Test evaluation: Average loss: 0.0800, Accuracy: 9755/10000 (98%)\n",
      "\n"
     ]
    }
   ],
   "source": [
    "seed_everything(seed=42)\n",
    "# Training settings\n",
    "batch_size = 128\n",
    "lr = 0.1\n",
    "momentum = 0.9 \n",
    "l2 = 0.0\n",
    "dropout_value = 0.5\n",
    "num_epochs = 15\n",
    "\n",
    "# device = 'cuda'\n",
    "device = 'cpu'\n",
    "\n",
    "# define the network\n",
    "model = Conv_Net(dropout_value).to(device)\n",
    "\n",
    "# define the optimizer \n",
    "optimizer = optim.SGD(model.parameters(), lr=lr, momentum=momentum, weight_decay= l2)\n",
    "\n",
    "train_dataset, val_dataset, test_dataset = load_data()\n",
    "\n",
    "#divide data to train and val\n",
    "train_loader = get_data_loaders(train_dataset, batch_size, shuffle=True)\n",
    "val_loader = get_data_loaders(val_dataset, batch_size, shuffle=False)\n",
    "test_loader = get_data_loaders(test_dataset, batch_size, shuffle=False)\n",
    "\n",
    "\n",
    "for epoch in range(1, num_epochs):\n",
    "    train(epoch, train_loader, device)\n",
    "    test(train_loader, device, is_train_set=True)\n",
    "    test(val_loader, device, is_train_set=False)\n",
    "\n",
    "\n",
    "test(test_loader, device, is_train_set=False)"
   ]
  },
  {
   "cell_type": "code",
   "execution_count": 67,
   "metadata": {},
   "outputs": [
    {
     "name": "stdout",
     "output_type": "stream",
     "text": [
      "train_set_size: 4500\n",
      "val_set_size: 500\n",
      "Train Epoch: 1 [0/4500 (0%)]\tLoss: 2.338832\n"
     ]
    },
    {
     "name": "stderr",
     "output_type": "stream",
     "text": [
      "C:\\Users\\mingy\\AppData\\Local\\Temp\\ipykernel_3624\\1825828453.py:18: UserWarning: Implicit dimension choice for log_softmax has been deprecated. Change the call to include dim=X as an argument.\n",
      "  return F.log_softmax(x)\n"
     ]
    },
    {
     "name": "stdout",
     "output_type": "stream",
     "text": [
      "Train Epoch: 1 [1280/4500 (28%)]\tLoss: 3.334438\n",
      "Train Epoch: 1 [2560/4500 (56%)]\tLoss: 1.474590\n",
      "Train Epoch: 1 [3840/4500 (83%)]\tLoss: 1.019231\n",
      "\n",
      "Train evaluation: Average loss: 0.4045, Accuracy: 3926/4500 (87%)\n",
      "\n",
      "\n",
      "Val/Test evaluation: Average loss: 0.4613, Accuracy: 426/500 (85%)\n",
      "\n",
      "Train Epoch: 2 [0/4500 (0%)]\tLoss: 0.353475\n",
      "Train Epoch: 2 [1280/4500 (28%)]\tLoss: 0.327830\n",
      "Train Epoch: 2 [2560/4500 (56%)]\tLoss: 0.433381\n",
      "Train Epoch: 2 [3840/4500 (83%)]\tLoss: 0.271496\n",
      "\n",
      "Train evaluation: Average loss: 0.3152, Accuracy: 4083/4500 (91%)\n",
      "\n",
      "\n",
      "Val/Test evaluation: Average loss: 0.3484, Accuracy: 446/500 (89%)\n",
      "\n",
      "Train Epoch: 3 [0/4500 (0%)]\tLoss: 0.270919\n",
      "Train Epoch: 3 [1280/4500 (28%)]\tLoss: 0.386506\n",
      "Train Epoch: 3 [2560/4500 (56%)]\tLoss: 0.264114\n",
      "Train Epoch: 3 [3840/4500 (83%)]\tLoss: 0.255195\n",
      "\n",
      "Train evaluation: Average loss: 0.3584, Accuracy: 4001/4500 (89%)\n",
      "\n",
      "\n",
      "Val/Test evaluation: Average loss: 0.4447, Accuracy: 424/500 (85%)\n",
      "\n",
      "Train Epoch: 4 [0/4500 (0%)]\tLoss: 0.319754\n",
      "Train Epoch: 4 [1280/4500 (28%)]\tLoss: 0.376322\n",
      "Train Epoch: 4 [2560/4500 (56%)]\tLoss: 0.273035\n",
      "Train Epoch: 4 [3840/4500 (83%)]\tLoss: 0.485025\n",
      "\n",
      "Train evaluation: Average loss: 0.3658, Accuracy: 3995/4500 (89%)\n",
      "\n",
      "\n",
      "Val/Test evaluation: Average loss: 0.3270, Accuracy: 451/500 (90%)\n",
      "\n",
      "Train Epoch: 5 [0/4500 (0%)]\tLoss: 0.431872\n",
      "Train Epoch: 5 [1280/4500 (28%)]\tLoss: 0.212363\n",
      "Train Epoch: 5 [2560/4500 (56%)]\tLoss: 0.259737\n",
      "Train Epoch: 5 [3840/4500 (83%)]\tLoss: 0.157414\n",
      "\n",
      "Train evaluation: Average loss: 0.2848, Accuracy: 4122/4500 (92%)\n",
      "\n",
      "\n",
      "Val/Test evaluation: Average loss: 0.3328, Accuracy: 448/500 (90%)\n",
      "\n",
      "Train Epoch: 6 [0/4500 (0%)]\tLoss: 0.337413\n",
      "Train Epoch: 6 [1280/4500 (28%)]\tLoss: 0.272648\n",
      "Train Epoch: 6 [2560/4500 (56%)]\tLoss: 0.194898\n",
      "Train Epoch: 6 [3840/4500 (83%)]\tLoss: 0.254079\n",
      "\n",
      "Train evaluation: Average loss: 0.2077, Accuracy: 4230/4500 (94%)\n",
      "\n",
      "\n",
      "Val/Test evaluation: Average loss: 0.2233, Accuracy: 467/500 (93%)\n",
      "\n",
      "Train Epoch: 7 [0/4500 (0%)]\tLoss: 0.266025\n",
      "Train Epoch: 7 [1280/4500 (28%)]\tLoss: 0.285270\n",
      "Train Epoch: 7 [2560/4500 (56%)]\tLoss: 0.178187\n",
      "Train Epoch: 7 [3840/4500 (83%)]\tLoss: 0.169524\n",
      "\n",
      "Train evaluation: Average loss: 0.1718, Accuracy: 4286/4500 (95%)\n",
      "\n",
      "\n",
      "Val/Test evaluation: Average loss: 0.2076, Accuracy: 475/500 (95%)\n",
      "\n",
      "Train Epoch: 8 [0/4500 (0%)]\tLoss: 0.156303\n",
      "Train Epoch: 8 [1280/4500 (28%)]\tLoss: 0.256014\n",
      "Train Epoch: 8 [2560/4500 (56%)]\tLoss: 0.167310\n",
      "Train Epoch: 8 [3840/4500 (83%)]\tLoss: 0.372998\n",
      "\n",
      "Train evaluation: Average loss: 0.3557, Accuracy: 3980/4500 (88%)\n",
      "\n",
      "\n",
      "Val/Test evaluation: Average loss: 0.3478, Accuracy: 449/500 (90%)\n",
      "\n",
      "Train Epoch: 9 [0/4500 (0%)]\tLoss: 0.306440\n",
      "Train Epoch: 9 [1280/4500 (28%)]\tLoss: 0.211656\n",
      "Train Epoch: 9 [2560/4500 (56%)]\tLoss: 0.218501\n",
      "Train Epoch: 9 [3840/4500 (83%)]\tLoss: 0.305822\n",
      "\n",
      "Train evaluation: Average loss: 0.6294, Accuracy: 3488/4500 (78%)\n",
      "\n",
      "\n",
      "Val/Test evaluation: Average loss: 0.6832, Accuracy: 377/500 (75%)\n",
      "\n",
      "Train Epoch: 10 [0/4500 (0%)]\tLoss: 0.708251\n",
      "Train Epoch: 10 [1280/4500 (28%)]\tLoss: 0.361427\n",
      "Train Epoch: 10 [2560/4500 (56%)]\tLoss: 0.222254\n",
      "Train Epoch: 10 [3840/4500 (83%)]\tLoss: 0.208125\n",
      "\n",
      "Train evaluation: Average loss: 0.7987, Accuracy: 3237/4500 (72%)\n",
      "\n",
      "\n",
      "Val/Test evaluation: Average loss: 0.7735, Accuracy: 354/500 (71%)\n",
      "\n",
      "Train Epoch: 11 [0/4500 (0%)]\tLoss: 0.718278\n",
      "Train Epoch: 11 [1280/4500 (28%)]\tLoss: 0.268709\n",
      "Train Epoch: 11 [2560/4500 (56%)]\tLoss: 0.330437\n",
      "Train Epoch: 11 [3840/4500 (83%)]\tLoss: 0.191671\n",
      "\n",
      "Train evaluation: Average loss: 0.2512, Accuracy: 4127/4500 (92%)\n",
      "\n",
      "\n",
      "Val/Test evaluation: Average loss: 0.2834, Accuracy: 450/500 (90%)\n",
      "\n",
      "Train Epoch: 12 [0/4500 (0%)]\tLoss: 0.225769\n",
      "Train Epoch: 12 [1280/4500 (28%)]\tLoss: 0.226054\n",
      "Train Epoch: 12 [2560/4500 (56%)]\tLoss: 0.228030\n",
      "Train Epoch: 12 [3840/4500 (83%)]\tLoss: 0.393450\n",
      "\n",
      "Train evaluation: Average loss: 0.2356, Accuracy: 4207/4500 (93%)\n",
      "\n",
      "\n",
      "Val/Test evaluation: Average loss: 0.2840, Accuracy: 456/500 (91%)\n",
      "\n",
      "Train Epoch: 13 [0/4500 (0%)]\tLoss: 0.297276\n",
      "Train Epoch: 13 [1280/4500 (28%)]\tLoss: 0.478530\n",
      "Train Epoch: 13 [2560/4500 (56%)]\tLoss: 0.195091\n",
      "Train Epoch: 13 [3840/4500 (83%)]\tLoss: 0.341894\n",
      "\n",
      "Train evaluation: Average loss: 0.2555, Accuracy: 4169/4500 (93%)\n",
      "\n",
      "\n",
      "Val/Test evaluation: Average loss: 0.2837, Accuracy: 452/500 (90%)\n",
      "\n",
      "Train Epoch: 14 [0/4500 (0%)]\tLoss: 0.287866\n",
      "Train Epoch: 14 [1280/4500 (28%)]\tLoss: 0.260992\n",
      "Train Epoch: 14 [2560/4500 (56%)]\tLoss: 0.272975\n",
      "Train Epoch: 14 [3840/4500 (83%)]\tLoss: 0.298067\n",
      "\n",
      "Train evaluation: Average loss: 0.3344, Accuracy: 4097/4500 (91%)\n",
      "\n",
      "\n",
      "Val/Test evaluation: Average loss: 0.3714, Accuracy: 446/500 (89%)\n",
      "\n",
      "\n",
      "Val/Test evaluation: Average loss: 0.3504, Accuracy: 8998/10000 (90%)\n",
      "\n"
     ]
    }
   ],
   "source": [
    "seed_everything(seed=42)\n",
    "# Training settings\n",
    "batch_size = 128\n",
    "lr = 0.1\n",
    "momentum = 0.9 \n",
    "l2 = 0.05\n",
    "dropout_value = 0.0\n",
    "num_epochs = 15\n",
    "# device = 'cuda'\n",
    "device = 'cpu'\n",
    "\n",
    "# define the network\n",
    "model = Conv_Net(dropout_value).to(device)\n",
    "\n",
    "# define the optimizer \n",
    "optimizer = optim.SGD(model.parameters(), lr=lr, momentum=momentum, weight_decay= l2)\n",
    "\n",
    "train_dataset, val_dataset, test_dataset = load_data()\n",
    "\n",
    "#divide data to train and val\n",
    "train_loader = get_data_loaders(train_dataset, batch_size, shuffle=True)\n",
    "val_loader = get_data_loaders(val_dataset, batch_size, shuffle=False)\n",
    "test_loader = get_data_loaders(test_dataset, batch_size, shuffle=False)\n",
    "\n",
    "\n",
    "for epoch in range(1, num_epochs):\n",
    "    train(epoch, train_loader, device)\n",
    "    test(train_loader, device, is_train_set=True)\n",
    "    test(val_loader, device, is_train_set=False)\n",
    "\n",
    "\n",
    "test(test_loader, device, is_train_set=False)"
   ]
  },
  {
   "cell_type": "markdown",
   "metadata": {},
   "source": [
    "# Exercise : MF Faces"
   ]
  },
  {
   "cell_type": "code",
   "execution_count": 68,
   "metadata": {},
   "outputs": [
    {
     "name": "stdout",
     "output_type": "stream",
     "text": [
      ".. _olivetti_faces_dataset:\n",
      "\n",
      "The Olivetti faces dataset\n",
      "--------------------------\n",
      "\n",
      "`This dataset contains a set of face images`_ taken between April 1992 and \n",
      "April 1994 at AT&T Laboratories Cambridge. The\n",
      ":func:`sklearn.datasets.fetch_olivetti_faces` function is the data\n",
      "fetching / caching function that downloads the data\n",
      "archive from AT&T.\n",
      "\n",
      ".. _This dataset contains a set of face images: http://www.cl.cam.ac.uk/research/dtg/attarchive/facedatabase.html\n",
      "\n",
      "As described on the original website:\n",
      "\n",
      "    There are ten different images of each of 40 distinct subjects. For some\n",
      "    subjects, the images were taken at different times, varying the lighting,\n",
      "    facial expressions (open / closed eyes, smiling / not smiling) and facial\n",
      "    details (glasses / no glasses). All the images were taken against a dark\n",
      "    homogeneous background with the subjects in an upright, frontal position \n",
      "    (with tolerance for some side movement).\n",
      "\n",
      "**Data Set Characteristics:**\n",
      "\n",
      "    =================   =====================\n",
      "    Classes                                40\n",
      "    Samples total                         400\n",
      "    Dimensionality                       4096\n",
      "    Features            real, between 0 and 1\n",
      "    =================   =====================\n",
      "\n",
      "The image is quantized to 256 grey levels and stored as unsigned 8-bit \n",
      "integers; the loader will convert these to floating point values on the \n",
      "interval [0, 1], which are easier to work with for many algorithms.\n",
      "\n",
      "The \"target\" for this database is an integer from 0 to 39 indicating the\n",
      "identity of the person pictured; however, with only 10 examples per class, this\n",
      "relatively small dataset is more interesting from an unsupervised or\n",
      "semi-supervised perspective.\n",
      "\n",
      "The original dataset consisted of 92 x 112, while the version available here\n",
      "consists of 64x64 images.\n",
      "\n",
      "When using these images, please give credit to AT&T Laboratories Cambridge.\n",
      "\n"
     ]
    }
   ],
   "source": [
    "faces = fetch_olivetti_faces()\n",
    "print(faces.DESCR)"
   ]
  },
  {
   "cell_type": "markdown",
   "metadata": {},
   "source": [
    "Definition of the data matrix:"
   ]
  },
  {
   "cell_type": "code",
   "execution_count": 69,
   "metadata": {},
   "outputs": [],
   "source": [
    "D = faces.data"
   ]
  },
  {
   "cell_type": "markdown",
   "metadata": {},
   "source": [
    "The observations/rows pf the data matrix can be visualized as pictures. 10 consecutive pictures are taken from one person. This are the first 30 pictutres."
   ]
  },
  {
   "cell_type": "code",
   "execution_count": 70,
   "metadata": {},
   "outputs": [
    {
     "data": {
      "image/png": "[encoded data removed]",
      "text/plain": [
       "<Figure size 720x216 with 30 Axes>"
      ]
     },
     "metadata": {
      "needs_background": "light"
     },
     "output_type": "display_data"
    }
   ],
   "source": [
    "# Here are the first ten guys of the dataset\n",
    "fig = plt.figure(figsize=(10, 3))\n",
    "for i in range(30):\n",
    "    ax = plt.subplot2grid((3, 10), (int(i/10), i-int(i/10)*10))\n",
    "    \n",
    "    ax.imshow(D[i,:].reshape(64, 64), cmap=plt.cm.gray)\n",
    "    ax.axis('off')"
   ]
  },
  {
   "cell_type": "code",
   "execution_count": 71,
   "metadata": {},
   "outputs": [],
   "source": [
    "from sklearn.decomposition import TruncatedSVD\n"
   ]
  },
  {
   "cell_type": "code",
   "execution_count": 72,
   "metadata": {},
   "outputs": [],
   "source": [
    "mu_F = np.mean(D, axis=0)\n",
    "def PCA(D, r, reconstruct = True, component=False):\n",
    "    # center values\n",
    "    C = D - mu_F.T\n",
    "    # initiate trucated svd\n",
    "    svd = TruncatedSVD(n_components=r)    \n",
    "    Y_new = svd.fit_transform(C)\n",
    "\n",
    "    \n",
    "    Xt = svd.components_\n",
    "    print((C@Xt.T).shape)\n",
    "    \n",
    "    if component:\n",
    "        return Xt\n",
    "    \n",
    "    # if reconstruction, provide it\n",
    "    if reconstruct:\n",
    "        P = C @ Xt.T        \n",
    "        return (P@Xt).T + mu_F.T.reshape(4096, 1)\n",
    "    \n",
    "    # return pca \n",
    "    return C@Xt.T\n"
   ]
  },
  {
   "cell_type": "code",
   "execution_count": 73,
   "metadata": {},
   "outputs": [
    {
     "name": "stdout",
     "output_type": "stream",
     "text": [
      "(400, 4)\n"
     ]
    },
    {
     "data": {
      "image/png": "[encoded data removed]",
      "text/plain": [
       "<Figure size 288x72 with 4 Axes>"
      ]
     },
     "metadata": {
      "needs_background": "light"
     },
     "output_type": "display_data"
    }
   ],
   "source": [
    "# question 2 a\n",
    "Xt_result = PCA(D, 4, component=True)\n",
    "fig = plt.figure(figsize=(4, 1))\n",
    "for i in range(4):\n",
    "    ax = plt.subplot2grid((1, 4), (int(i/4), i-int(i/4)*4))\n",
    "    ax.imshow(Xt_result[i].reshape(64, 64), cmap=plt.cm.gray)\n",
    "    ax.axis('off')"
   ]
  },
  {
   "cell_type": "code",
   "execution_count": 74,
   "metadata": {},
   "outputs": [
    {
     "name": "stdout",
     "output_type": "stream",
     "text": [
      "(400, 5)\n",
      "[-6.432611  -0.7036756 -1.4300231  1.2785162  2.5643153]\n"
     ]
    }
   ],
   "source": [
    "#quetsion 2b\n",
    "y_result = PCA(D, 5, reconstruct= False)\n",
    "print(y_result[0])"
   ]
  },
  {
   "cell_type": "code",
   "execution_count": 75,
   "metadata": {},
   "outputs": [
    {
     "name": "stdout",
     "output_type": "stream",
     "text": [
      "(400, 25)\n",
      "(400, 50)\n",
      "(400, 100)\n"
     ]
    },
    {
     "data": {
      "image/png": "[encoded data removed]",
      "text/plain": [
       "<Figure size 216x72 with 3 Axes>"
      ]
     },
     "metadata": {
      "needs_background": "light"
     },
     "output_type": "display_data"
    }
   ],
   "source": [
    "#quetsion 2c\n",
    "twentyfive = PCA(D, 25)\n",
    "fifty = PCA(D, 50)\n",
    "hundred = PCA(D, 100)\n",
    "resconstruct_fig = [twentyfive[:,19] , fifty[:,19] , hundred[:,19]]\n",
    "fig = plt.figure(figsize=(3, 1))\n",
    "for i in range(3):\n",
    "    ax = plt.subplot2grid((1, 3), (int(i/3), i-int(i/3)*3))\n",
    "    ax.imshow(resconstruct_fig[i].reshape(64, 64), cmap=plt.cm.gray)\n",
    "    ax.axis('off')"
   ]
  },
  {
   "cell_type": "code",
   "execution_count": 76,
   "metadata": {},
   "outputs": [
    {
     "data": {
      "image/png": "[encoded data removed]",
      "text/plain": [
       "<Figure size 432x288 with 1 Axes>"
      ]
     },
     "metadata": {
      "needs_background": "light"
     },
     "output_type": "display_data"
    }
   ],
   "source": [
    "# question 2d\n",
    "C = D - mu_F.T\n",
    "P = -np.ones((400,50))\n",
    "svd = TruncatedSVD(n_components=50) \n",
    "Y_new = svd.fit_transform(C)   \n",
    "Xt = svd.components_\n",
    "generate =  (P@Xt).T + mu_F.T.reshape(4096, 1)\n",
    "\n",
    "\n",
    "for i in range(1):\n",
    "    ax = plt.subplot2grid((1, 3), (int(i/3), i-int(i/3)*3))\n",
    "    ax.imshow(generate[:,i].reshape(64, 64), cmap=plt.cm.gray)\n",
    "    ax.axis('off')\n",
    "\n"
   ]
  },
  {
   "cell_type": "markdown",
   "metadata": {},
   "source": [
    "# Exercise: k-means Initialization"
   ]
  },
  {
   "cell_type": "code",
   "execution_count": 77,
   "metadata": {},
   "outputs": [],
   "source": [
    "!pip3 show scikit-learn"
   ]
  },
  {
   "cell_type": "code",
   "execution_count": 78,
   "metadata": {},
   "outputs": [],
   "source": [
    "!pip3 show numpy"
   ]
  },
  {
   "cell_type": "markdown",
   "metadata": {},
   "source": [
    "If your versions don't match, the following commands (or their anaconda version) could help to get the newest stable release. If you need help with this, please ask the TAs during instruction hours."
   ]
  },
  {
   "cell_type": "code",
   "execution_count": 79,
   "metadata": {},
   "outputs": [],
   "source": [
    "!pip3 install scikit-learn --upgrade\n",
    "!pip3 install numpy --upgrade"
   ]
  },
  {
   "cell_type": "markdown",
   "metadata": {},
   "source": [
    "The functions generating the datasets are given here:"
   ]
  },
  {
   "cell_type": "code",
   "execution_count": 80,
   "metadata": {},
   "outputs": [],
   "source": [
    "def generateMoons(epsilon, n):\n",
    "    moons, labels = sklearn.datasets.make_moons(n_samples=n, noise=epsilon, random_state=7)\n",
    "    return \"moons\", moons, labels, 2\n",
    "def generateBlobs(epsilon, n):\n",
    "    blobs, labels = sklearn.datasets.make_blobs(n_samples=n,centers=3, cluster_std=[epsilon + 1, epsilon + 2.5, epsilon + 0.5])\n",
    "    return \"blobs\", blobs, labels, 3"
   ]
  },
  {
   "cell_type": "markdown",
   "metadata": {},
   "source": [
    "Implement the centroid initialization here. Right now, it returns a random initialization. "
   ]
  },
  {
   "cell_type": "code",
   "execution_count": 81,
   "metadata": {},
   "outputs": [],
   "source": [
    "def get_dist(i, D, X,s):\n",
    "    \"\"\"\n",
    "    Calculate minimal distance\n",
    "    \"\"\"\n",
    "    return min((D[i, :].T - X[s])**2)\n",
    "\n",
    "def get_prob(i,D,X,s):\n",
    "    \"\"\"\n",
    "    Generate probability distribution\n",
    "     with distance measure\n",
    "    \"\"\"\n",
    "    return get_dist(i,D, X,s) / sum([get_dist(j,D,X,s) for j in range(n)])\n"
   ]
  },
  {
   "cell_type": "code",
   "execution_count": 82,
   "metadata": {},
   "outputs": [],
   "source": [
    "def dist(v,X):\n",
    "    distance=100000\n",
    "    for i in range(X.shape[1]):\n",
    "        if distance>np.linalg.norm(X[:,i]-v):\n",
    "            distance=np.linalg.norm(X[:,i]-v)\n",
    "    return distance"
   ]
  },
  {
   "cell_type": "code",
   "execution_count": 83,
   "metadata": {},
   "outputs": [],
   "source": [
    "def init_centroids_greedy_pp(D,r,l=10):\n",
    "    global n\n",
    "    '''\n",
    "        :param r: (int) number of centroids (clusters)\n",
    "        :param D: (np-array) the data matrix\n",
    "        :param l: (int) number of centroid candidates in each step\n",
    "        :return: (np-array) 'X' the selected centroids from the dataset\n",
    "    '''\n",
    "    rng =  np.random.default_rng(seed=7) # use this random generator to sample the candidates (sampling according to given probabilities can be done via rng.choice(..))\n",
    "    list_i=rng.integers(low=0, high=n, size=l)\n",
    "    value=100000\n",
    "    flag=0\n",
    "    for i in list_i:\n",
    "        element=np.tile(D[i],(D.shape[0],1))\n",
    "        current=np.sum(np.linalg.norm(D-element,axis=1))\n",
    "\n",
    "        if value>current:\n",
    "            value=current\n",
    "            flag=i\n",
    "\n",
    "        X=D[flag]\n",
    "        X=np.expand_dims(X,axis=0)\n",
    "        X = np.transpose(X)#(2,1)\n",
    "\n",
    "    s=2\n",
    "\n",
    "    while s<=r:\n",
    "        # list_i=np.array([i in range(n)])\n",
    "        sum_distance = sum([dist(D[i],X) for i in range(n)])\n",
    "\n",
    "        p=[dist(D[i],X)/sum_distance for i in range(n)]\n",
    "        list_i=rng.choice(np.arange(500), p=p, size=l)\n",
    "\n",
    "        value = 100000\n",
    "        flag = 0\n",
    "        for i in list_i:\n",
    "            element = np.concatenate((X,np.transpose(np.expand_dims(D[i],axis=0))),axis=1)#need test!!!\n",
    "            current = sum([dist(D[j] , element) for j in range(n) ])\n",
    "\n",
    "            if value > current:\n",
    "                value = current\n",
    "                flag = i\n",
    "        print(flag)\n",
    "        X=np.concatenate((X,np.transpose(np.expand_dims(D[flag],axis=0))),axis=1)\n",
    "        s=s+1\n",
    "\n",
    "    return X"
   ]
  },
  {
   "cell_type": "code",
   "execution_count": 84,
   "metadata": {},
   "outputs": [],
   "source": [
    "import scipy\n",
    "def spectral_clustering(W,r, X_init):\n",
    "    '''\n",
    "        :param W: (np-array) nxn similarity/weighted adjacency matrix\n",
    "        :param r: (int) number of centroids (clusters)\n",
    "        :param X_init: (function) the centroid initialization function \n",
    "        :return: (np-array) 'Y' the computed cluster assignment matrix\n",
    "    '''\n",
    "    L = np.diag(np.array(W.sum(0))[0]) - W\n",
    "    Lambda, V = scipy.sparse.linalg.eigsh(L, k=r+1, which=\"SM\")\n",
    "    A = V[:,1:]\n",
    "    initial_points = X_init(A,r)\n",
    "    X, Y = kmeans(A, r, initial_points)\n",
    "    return Y"
   ]
  },
  {
   "cell_type": "markdown",
   "metadata": {},
   "source": [
    "This is the $k$-means implementation from the lecture accompanying notebook."
   ]
  },
  {
   "cell_type": "code",
   "execution_count": 85,
   "metadata": {},
   "outputs": [],
   "source": [
    "def RSS(D,X,Y):\n",
    "    return np.sum((D- Y@X.T)**2)"
   ]
  },
  {
   "cell_type": "code",
   "execution_count": 86,
   "metadata": {},
   "outputs": [],
   "source": [
    "def getY(labels):\n",
    "    '''\n",
    "        Compute the cluster assignment matrix Y from the categorically encoded labels\n",
    "    '''\n",
    "    Y = np.eye(max(labels)+1)[labels]\n",
    "    return Y\n",
    "def update_centroid(D,Y):\n",
    "    cluster_sizes = np.diag(Y.T@Y).copy()\n",
    "    cluster_sizes[cluster_sizes==0]=1\n",
    "    return D.T@Y/cluster_sizes\n",
    "def update_assignment(D,X):\n",
    "    dist = np.sum((np.expand_dims(D,2) - X)**2,1)\n",
    "    labels = np.argmin(dist,1)\n",
    "    return getY(labels)\n",
    "def kmeans(D,r, X_init, epsilon=0.00001, t_max=10000):\n",
    "    X = X_init.copy()\n",
    "    Y = update_assignment(D,X)\n",
    "    rss_old = RSS(D,X,Y) +2*epsilon\n",
    "    t=0\n",
    "    #Looping as long as difference of objective function values is larger than epsilon\n",
    "    while rss_old - RSS(D,X,Y) > epsilon and t < t_max-1:\n",
    "        rss_old = RSS(D,X,Y)\n",
    "        X = update_centroid(D,Y)\n",
    "        Y = update_assignment(D,X)\n",
    "        t+=1\n",
    "    print(t,\"iterations\")\n",
    "    return X,Y"
   ]
  },
  {
   "cell_type": "markdown",
   "metadata": {},
   "source": [
    "We generate a dataset."
   ]
  },
  {
   "cell_type": "code",
   "execution_count": 87,
   "metadata": {},
   "outputs": [],
   "source": [
    "n=500\n",
    "dataID, D, labels, r = generateBlobs(0.05,n)\n"
   ]
  },
  {
   "cell_type": "markdown",
   "metadata": {},
   "source": [
    "Run kmeans and spectral clustering based on the initialization technique."
   ]
  },
  {
   "cell_type": "code",
   "execution_count": 88,
   "metadata": {},
   "outputs": [
    {
     "name": "stdout",
     "output_type": "stream",
     "text": [
      "494\n",
      "115\n",
      "6 iterations\n",
      "0.6673160897543996\n",
      "494\n",
      "401\n",
      "6 iterations\n",
      "0.6673160897543996\n",
      "414\n",
      "323\n",
      "6 iterations\n",
      "0.6673160897543996\n",
      "414\n",
      "91\n",
      "6 iterations\n",
      "0.6673160897543996\n"
     ]
    }
   ],
   "source": [
    "# X_init = init_centroids_greedy_pp(D,r,l=10)\n",
    "l_list = [15,25,30,35]\n",
    "for i in l_list:\n",
    "    X_init = init_centroids_greedy_pp(D,r,l=i)\n",
    "    X,Y = kmeans(D,r, X_init)\n",
    "    y = np.where(Y==1)\n",
    "    print(normalized_mutual_info_score(y[1],labels))\n",
    "\n"
   ]
  },
  {
   "cell_type": "markdown",
   "metadata": {},
   "source": [
    "Plot the clustering. The initial centroids are marked in red, and the final centroids are marked in blue. You can use this visualization to see if your initialization makes sense. It doesn't work for spectral clustering."
   ]
  },
  {
   "cell_type": "code",
   "execution_count": 89,
   "metadata": {},
   "outputs": [
    {
     "data": {
      "text/plain": [
       "<matplotlib.collections.PathCollection at 0x21c1e1bf910>"
      ]
     },
     "execution_count": 89,
     "metadata": {},
     "output_type": "execute_result"
    },
    {
     "data": {
      "image/png": "[encoded data removed]",
      "text/plain": [
       "<Figure size 432x288 with 1 Axes>"
      ]
     },
     "metadata": {
      "needs_background": "light"
     },
     "output_type": "display_data"
    }
   ],
   "source": [
    "fig = plt.figure()\n",
    "ax = plt.axes()\n",
    "ax.axis('equal')\n",
    "ax.scatter(D[:, 0], D[:, 1], c=np.argmax(Y,axis=1), s=10)\n",
    "ax.scatter(X_init.T[:, 0], X_init.T[:, 1], c='red', s=50, marker = 'D')\n",
    "ax.scatter(X.T[:, 0], X.T[:, 1], c='blue', s=50, marker = 'D')"
   ]
  },
  {
   "cell_type": "markdown",
   "metadata": {},
   "source": [
    "We generate the moons dataset and compute spectral clustering with the implemented initialization technique."
   ]
  },
  {
   "cell_type": "code",
   "execution_count": 90,
   "metadata": {},
   "outputs": [],
   "source": [
    "dataID, D, labels, r = generateMoons(0.05,n)"
   ]
  },
  {
   "cell_type": "code",
   "execution_count": 91,
   "metadata": {},
   "outputs": [
    {
     "data": {
      "image/png": "[encoded data removed]",
      "text/plain": [
       "<Figure size 432x288 with 1 Axes>"
      ]
     },
     "metadata": {
      "needs_background": "light"
     },
     "output_type": "display_data"
    }
   ],
   "source": [
    "from sklearn.neighbors import NearestNeighbors as nn\n",
    "knn = nn(n_neighbors=25).fit(D)\n",
    "dis , clustering  = knn.kneighbors(D)\n",
    "plt.scatter(D[:, 0], D[:, 1], c=np.argmax(dis,axis=1), s=10)\n",
    "plt.title('%s'  % ( dataID) )\n",
    "plt.show()\n",
    "\n"
   ]
  },
  {
   "cell_type": "code",
   "execution_count": 92,
   "metadata": {},
   "outputs": [
    {
     "name": "stdout",
     "output_type": "stream",
     "text": [
      "222\n",
      "6 iterations\n"
     ]
    },
    {
     "data": {
      "image/png": "[encoded data removed]",
      "text/plain": [
       "<Figure size 432x288 with 1 Axes>"
      ]
     },
     "metadata": {
      "needs_background": "light"
     },
     "output_type": "display_data"
    }
   ],
   "source": [
    "from sklearn.neighbors import radius_neighbors_graph, kneighbors_graph\n",
    "# Implement here the computation of W as knn graph\n",
    "W = radius_neighbors_graph(D,0.5,include_self=False)\n",
    "Y = spectral_clustering(W,r,init_centroids_greedy_pp)\n",
    "plt.scatter(D[:, 0], D[:, 1], c=np.argmax(Y,axis=1), s=10)\n",
    "plt.title('%s'  % ( dataID) )\n",
    "plt.show()\n"
   ]
  },
  {
   "cell_type": "markdown",
   "metadata": {},
   "source": [
    "# Exercise : Movielens\n",
    "To read the dataset you might need to alter the path to look for it:"
   ]
  },
  {
   "cell_type": "code",
   "execution_count": 93,
   "metadata": {},
   "outputs": [
    {
     "data": {
      "text/html": [
       "<div>\n",
       "<style scoped>\n",
       "    .dataframe tbody tr th:only-of-type {\n",
       "        vertical-align: middle;\n",
       "    }\n",
       "\n",
       "    .dataframe tbody tr th {\n",
       "        vertical-align: top;\n",
       "    }\n",
       "\n",
       "    .dataframe thead th {\n",
       "        text-align: right;\n",
       "    }\n",
       "</style>\n",
       "<table border=\"1\" class=\"dataframe\">\n",
       "  <thead>\n",
       "    <tr style=\"text-align: right;\">\n",
       "      <th></th>\n",
       "      <th>movieId</th>\n",
       "      <th>title</th>\n",
       "      <th>genres</th>\n",
       "    </tr>\n",
       "  </thead>\n",
       "  <tbody>\n",
       "    <tr>\n",
       "      <th>0</th>\n",
       "      <td>1</td>\n",
       "      <td>Toy Story (1995)</td>\n",
       "      <td>Adventure|Animation|Children|Comedy|Fantasy</td>\n",
       "    </tr>\n",
       "    <tr>\n",
       "      <th>1</th>\n",
       "      <td>2</td>\n",
       "      <td>Jumanji (1995)</td>\n",
       "      <td>Adventure|Children|Fantasy</td>\n",
       "    </tr>\n",
       "    <tr>\n",
       "      <th>2</th>\n",
       "      <td>3</td>\n",
       "      <td>Grumpier Old Men (1995)</td>\n",
       "      <td>Comedy|Romance</td>\n",
       "    </tr>\n",
       "    <tr>\n",
       "      <th>3</th>\n",
       "      <td>4</td>\n",
       "      <td>Waiting to Exhale (1995)</td>\n",
       "      <td>Comedy|Drama|Romance</td>\n",
       "    </tr>\n",
       "    <tr>\n",
       "      <th>4</th>\n",
       "      <td>5</td>\n",
       "      <td>Father of the Bride Part II (1995)</td>\n",
       "      <td>Comedy</td>\n",
       "    </tr>\n",
       "  </tbody>\n",
       "</table>\n",
       "</div>"
      ],
      "text/plain": [
       "   movieId                               title  \\\n",
       "0        1                    Toy Story (1995)   \n",
       "1        2                      Jumanji (1995)   \n",
       "2        3             Grumpier Old Men (1995)   \n",
       "3        4            Waiting to Exhale (1995)   \n",
       "4        5  Father of the Bride Part II (1995)   \n",
       "\n",
       "                                        genres  \n",
       "0  Adventure|Animation|Children|Comedy|Fantasy  \n",
       "1                   Adventure|Children|Fantasy  \n",
       "2                               Comedy|Romance  \n",
       "3                         Comedy|Drama|Romance  \n",
       "4                                       Comedy  "
      ]
     },
     "execution_count": 93,
     "metadata": {},
     "output_type": "execute_result"
    }
   ],
   "source": [
    "# lets explore movies.csv\n",
    "movies= pd.read_csv('movies.csv')\n",
    "movies.head()"
   ]
  },
  {
   "cell_type": "code",
   "execution_count": 94,
   "metadata": {},
   "outputs": [
    {
     "data": {
      "text/html": [
       "<div>\n",
       "<style scoped>\n",
       "    .dataframe tbody tr th:only-of-type {\n",
       "        vertical-align: middle;\n",
       "    }\n",
       "\n",
       "    .dataframe tbody tr th {\n",
       "        vertical-align: top;\n",
       "    }\n",
       "\n",
       "    .dataframe thead th {\n",
       "        text-align: right;\n",
       "    }\n",
       "</style>\n",
       "<table border=\"1\" class=\"dataframe\">\n",
       "  <thead>\n",
       "    <tr style=\"text-align: right;\">\n",
       "      <th></th>\n",
       "      <th>userId</th>\n",
       "      <th>movieId</th>\n",
       "      <th>rating</th>\n",
       "      <th>timestamp</th>\n",
       "    </tr>\n",
       "  </thead>\n",
       "  <tbody>\n",
       "    <tr>\n",
       "      <th>0</th>\n",
       "      <td>1</td>\n",
       "      <td>1</td>\n",
       "      <td>4.0</td>\n",
       "      <td>964982703</td>\n",
       "    </tr>\n",
       "    <tr>\n",
       "      <th>1</th>\n",
       "      <td>1</td>\n",
       "      <td>3</td>\n",
       "      <td>4.0</td>\n",
       "      <td>964981247</td>\n",
       "    </tr>\n",
       "    <tr>\n",
       "      <th>2</th>\n",
       "      <td>1</td>\n",
       "      <td>6</td>\n",
       "      <td>4.0</td>\n",
       "      <td>964982224</td>\n",
       "    </tr>\n",
       "    <tr>\n",
       "      <th>3</th>\n",
       "      <td>1</td>\n",
       "      <td>47</td>\n",
       "      <td>5.0</td>\n",
       "      <td>964983815</td>\n",
       "    </tr>\n",
       "    <tr>\n",
       "      <th>4</th>\n",
       "      <td>1</td>\n",
       "      <td>50</td>\n",
       "      <td>5.0</td>\n",
       "      <td>964982931</td>\n",
       "    </tr>\n",
       "  </tbody>\n",
       "</table>\n",
       "</div>"
      ],
      "text/plain": [
       "   userId  movieId  rating  timestamp\n",
       "0       1        1     4.0  964982703\n",
       "1       1        3     4.0  964981247\n",
       "2       1        6     4.0  964982224\n",
       "3       1       47     5.0  964983815\n",
       "4       1       50     5.0  964982931"
      ]
     },
     "execution_count": 94,
     "metadata": {},
     "output_type": "execute_result"
    }
   ],
   "source": [
    "# lets explore ratings.CSV\n",
    "ratings=pd.read_csv('ratings.csv',sep=',')\n",
    "ratings.head()"
   ]
  },
  {
   "cell_type": "markdown",
   "metadata": {},
   "source": [
    "The original ratings are in the range of 0.5 and 5:"
   ]
  },
  {
   "cell_type": "code",
   "execution_count": 95,
   "metadata": {},
   "outputs": [
    {
     "data": {
      "text/plain": [
       "(0.5, 5.0)"
      ]
     },
     "execution_count": 95,
     "metadata": {},
     "output_type": "execute_result"
    }
   ],
   "source": [
    "min(ratings[\"rating\"]), max(ratings[\"rating\"])"
   ]
  },
  {
   "cell_type": "markdown",
   "metadata": {},
   "source": [
    "We convert the sparse representation of movie ratings into a data matrix. The missing values are filled with zeros."
   ]
  },
  {
   "cell_type": "code",
   "execution_count": 96,
   "metadata": {},
   "outputs": [
    {
     "data": {
      "text/html": [
       "<div>\n",
       "<style scoped>\n",
       "    .dataframe tbody tr th:only-of-type {\n",
       "        vertical-align: middle;\n",
       "    }\n",
       "\n",
       "    .dataframe tbody tr th {\n",
       "        vertical-align: top;\n",
       "    }\n",
       "\n",
       "    .dataframe thead th {\n",
       "        text-align: right;\n",
       "    }\n",
       "</style>\n",
       "<table border=\"1\" class=\"dataframe\">\n",
       "  <thead>\n",
       "    <tr style=\"text-align: right;\">\n",
       "      <th>movieId</th>\n",
       "      <th>1</th>\n",
       "      <th>2</th>\n",
       "      <th>3</th>\n",
       "      <th>4</th>\n",
       "      <th>5</th>\n",
       "      <th>6</th>\n",
       "      <th>7</th>\n",
       "      <th>8</th>\n",
       "      <th>9</th>\n",
       "      <th>10</th>\n",
       "      <th>...</th>\n",
       "      <th>193565</th>\n",
       "      <th>193567</th>\n",
       "      <th>193571</th>\n",
       "      <th>193573</th>\n",
       "      <th>193579</th>\n",
       "      <th>193581</th>\n",
       "      <th>193583</th>\n",
       "      <th>193585</th>\n",
       "      <th>193587</th>\n",
       "      <th>193609</th>\n",
       "    </tr>\n",
       "    <tr>\n",
       "      <th>userId</th>\n",
       "      <th></th>\n",
       "      <th></th>\n",
       "      <th></th>\n",
       "      <th></th>\n",
       "      <th></th>\n",
       "      <th></th>\n",
       "      <th></th>\n",
       "      <th></th>\n",
       "      <th></th>\n",
       "      <th></th>\n",
       "      <th></th>\n",
       "      <th></th>\n",
       "      <th></th>\n",
       "      <th></th>\n",
       "      <th></th>\n",
       "      <th></th>\n",
       "      <th></th>\n",
       "      <th></th>\n",
       "      <th></th>\n",
       "      <th></th>\n",
       "      <th></th>\n",
       "    </tr>\n",
       "  </thead>\n",
       "  <tbody>\n",
       "    <tr>\n",
       "      <th>1</th>\n",
       "      <td>4.0</td>\n",
       "      <td>0.0</td>\n",
       "      <td>4.0</td>\n",
       "      <td>0.0</td>\n",
       "      <td>0.0</td>\n",
       "      <td>4.0</td>\n",
       "      <td>0.0</td>\n",
       "      <td>0.0</td>\n",
       "      <td>0.0</td>\n",
       "      <td>0.0</td>\n",
       "      <td>...</td>\n",
       "      <td>0.0</td>\n",
       "      <td>0.0</td>\n",
       "      <td>0.0</td>\n",
       "      <td>0.0</td>\n",
       "      <td>0.0</td>\n",
       "      <td>0.0</td>\n",
       "      <td>0.0</td>\n",
       "      <td>0.0</td>\n",
       "      <td>0.0</td>\n",
       "      <td>0.0</td>\n",
       "    </tr>\n",
       "    <tr>\n",
       "      <th>2</th>\n",
       "      <td>0.0</td>\n",
       "      <td>0.0</td>\n",
       "      <td>0.0</td>\n",
       "      <td>0.0</td>\n",
       "      <td>0.0</td>\n",
       "      <td>0.0</td>\n",
       "      <td>0.0</td>\n",
       "      <td>0.0</td>\n",
       "      <td>0.0</td>\n",
       "      <td>0.0</td>\n",
       "      <td>...</td>\n",
       "      <td>0.0</td>\n",
       "      <td>0.0</td>\n",
       "      <td>0.0</td>\n",
       "      <td>0.0</td>\n",
       "      <td>0.0</td>\n",
       "      <td>0.0</td>\n",
       "      <td>0.0</td>\n",
       "      <td>0.0</td>\n",
       "      <td>0.0</td>\n",
       "      <td>0.0</td>\n",
       "    </tr>\n",
       "    <tr>\n",
       "      <th>3</th>\n",
       "      <td>0.0</td>\n",
       "      <td>0.0</td>\n",
       "      <td>0.0</td>\n",
       "      <td>0.0</td>\n",
       "      <td>0.0</td>\n",
       "      <td>0.0</td>\n",
       "      <td>0.0</td>\n",
       "      <td>0.0</td>\n",
       "      <td>0.0</td>\n",
       "      <td>0.0</td>\n",
       "      <td>...</td>\n",
       "      <td>0.0</td>\n",
       "      <td>0.0</td>\n",
       "      <td>0.0</td>\n",
       "      <td>0.0</td>\n",
       "      <td>0.0</td>\n",
       "      <td>0.0</td>\n",
       "      <td>0.0</td>\n",
       "      <td>0.0</td>\n",
       "      <td>0.0</td>\n",
       "      <td>0.0</td>\n",
       "    </tr>\n",
       "    <tr>\n",
       "      <th>4</th>\n",
       "      <td>0.0</td>\n",
       "      <td>0.0</td>\n",
       "      <td>0.0</td>\n",
       "      <td>0.0</td>\n",
       "      <td>0.0</td>\n",
       "      <td>0.0</td>\n",
       "      <td>0.0</td>\n",
       "      <td>0.0</td>\n",
       "      <td>0.0</td>\n",
       "      <td>0.0</td>\n",
       "      <td>...</td>\n",
       "      <td>0.0</td>\n",
       "      <td>0.0</td>\n",
       "      <td>0.0</td>\n",
       "      <td>0.0</td>\n",
       "      <td>0.0</td>\n",
       "      <td>0.0</td>\n",
       "      <td>0.0</td>\n",
       "      <td>0.0</td>\n",
       "      <td>0.0</td>\n",
       "      <td>0.0</td>\n",
       "    </tr>\n",
       "    <tr>\n",
       "      <th>5</th>\n",
       "      <td>4.0</td>\n",
       "      <td>0.0</td>\n",
       "      <td>0.0</td>\n",
       "      <td>0.0</td>\n",
       "      <td>0.0</td>\n",
       "      <td>0.0</td>\n",
       "      <td>0.0</td>\n",
       "      <td>0.0</td>\n",
       "      <td>0.0</td>\n",
       "      <td>0.0</td>\n",
       "      <td>...</td>\n",
       "      <td>0.0</td>\n",
       "      <td>0.0</td>\n",
       "      <td>0.0</td>\n",
       "      <td>0.0</td>\n",
       "      <td>0.0</td>\n",
       "      <td>0.0</td>\n",
       "      <td>0.0</td>\n",
       "      <td>0.0</td>\n",
       "      <td>0.0</td>\n",
       "      <td>0.0</td>\n",
       "    </tr>\n",
       "  </tbody>\n",
       "</table>\n",
       "<p>5 rows × 9724 columns</p>\n",
       "</div>"
      ],
      "text/plain": [
       "movieId  1       2       3       4       5       6       7       8       \\\n",
       "userId                                                                    \n",
       "1           4.0     0.0     4.0     0.0     0.0     4.0     0.0     0.0   \n",
       "2           0.0     0.0     0.0     0.0     0.0     0.0     0.0     0.0   \n",
       "3           0.0     0.0     0.0     0.0     0.0     0.0     0.0     0.0   \n",
       "4           0.0     0.0     0.0     0.0     0.0     0.0     0.0     0.0   \n",
       "5           4.0     0.0     0.0     0.0     0.0     0.0     0.0     0.0   \n",
       "\n",
       "movieId  9       10      ...  193565  193567  193571  193573  193579  193581  \\\n",
       "userId                   ...                                                   \n",
       "1           0.0     0.0  ...     0.0     0.0     0.0     0.0     0.0     0.0   \n",
       "2           0.0     0.0  ...     0.0     0.0     0.0     0.0     0.0     0.0   \n",
       "3           0.0     0.0  ...     0.0     0.0     0.0     0.0     0.0     0.0   \n",
       "4           0.0     0.0  ...     0.0     0.0     0.0     0.0     0.0     0.0   \n",
       "5           0.0     0.0  ...     0.0     0.0     0.0     0.0     0.0     0.0   \n",
       "\n",
       "movieId  193583  193585  193587  193609  \n",
       "userId                                   \n",
       "1           0.0     0.0     0.0     0.0  \n",
       "2           0.0     0.0     0.0     0.0  \n",
       "3           0.0     0.0     0.0     0.0  \n",
       "4           0.0     0.0     0.0     0.0  \n",
       "5           0.0     0.0     0.0     0.0  \n",
       "\n",
       "[5 rows x 9724 columns]"
      ]
     },
     "execution_count": 96,
     "metadata": {},
     "output_type": "execute_result"
    }
   ],
   "source": [
    "df_movie_ratings = ratings.pivot(\n",
    "    index='userId',\n",
    "    columns='movieId',\n",
    "    values='rating'\n",
    ").fillna(0)  #fill unobserved entries with μ\n",
    "df_movie_ratings.head()"
   ]
  },
  {
   "cell_type": "markdown",
   "metadata": {},
   "source": [
    "We consider here only the movies which have been rated by more than 200 users. That are 18 movies. We will not be able to infer a pattern for movies with very few observations anyways, but for this exercise we are mostly interested in the prnciple and do not need a big dataset."
   ]
  },
  {
   "cell_type": "code",
   "execution_count": 97,
   "metadata": {},
   "outputs": [
    {
     "data": {
      "text/plain": [
       "18"
      ]
     },
     "execution_count": 97,
     "metadata": {},
     "output_type": "execute_result"
    }
   ],
   "source": [
    "np.sum(np.sum(df_movie_ratings!=0,0)>200)"
   ]
  },
  {
   "cell_type": "code",
   "execution_count": 98,
   "metadata": {},
   "outputs": [
    {
     "data": {
      "text/html": [
       "<div>\n",
       "<style scoped>\n",
       "    .dataframe tbody tr th:only-of-type {\n",
       "        vertical-align: middle;\n",
       "    }\n",
       "\n",
       "    .dataframe tbody tr th {\n",
       "        vertical-align: top;\n",
       "    }\n",
       "\n",
       "    .dataframe thead th {\n",
       "        text-align: right;\n",
       "    }\n",
       "</style>\n",
       "<table border=\"1\" class=\"dataframe\">\n",
       "  <thead>\n",
       "    <tr style=\"text-align: right;\">\n",
       "      <th>movieId</th>\n",
       "      <th>1</th>\n",
       "      <th>47</th>\n",
       "      <th>50</th>\n",
       "      <th>110</th>\n",
       "      <th>150</th>\n",
       "      <th>260</th>\n",
       "      <th>296</th>\n",
       "      <th>318</th>\n",
       "      <th>356</th>\n",
       "      <th>480</th>\n",
       "      <th>527</th>\n",
       "      <th>589</th>\n",
       "      <th>593</th>\n",
       "      <th>780</th>\n",
       "      <th>1196</th>\n",
       "      <th>2571</th>\n",
       "      <th>2858</th>\n",
       "      <th>2959</th>\n",
       "    </tr>\n",
       "    <tr>\n",
       "      <th>userId</th>\n",
       "      <th></th>\n",
       "      <th></th>\n",
       "      <th></th>\n",
       "      <th></th>\n",
       "      <th></th>\n",
       "      <th></th>\n",
       "      <th></th>\n",
       "      <th></th>\n",
       "      <th></th>\n",
       "      <th></th>\n",
       "      <th></th>\n",
       "      <th></th>\n",
       "      <th></th>\n",
       "      <th></th>\n",
       "      <th></th>\n",
       "      <th></th>\n",
       "      <th></th>\n",
       "      <th></th>\n",
       "    </tr>\n",
       "  </thead>\n",
       "  <tbody>\n",
       "    <tr>\n",
       "      <th>1</th>\n",
       "      <td>4.0</td>\n",
       "      <td>5.0</td>\n",
       "      <td>5.0</td>\n",
       "      <td>4.0</td>\n",
       "      <td>0.0</td>\n",
       "      <td>5.0</td>\n",
       "      <td>3.0</td>\n",
       "      <td>0.0</td>\n",
       "      <td>4.0</td>\n",
       "      <td>4.0</td>\n",
       "      <td>5.0</td>\n",
       "      <td>0.0</td>\n",
       "      <td>4.0</td>\n",
       "      <td>3.0</td>\n",
       "      <td>5.0</td>\n",
       "      <td>5.0</td>\n",
       "      <td>5.0</td>\n",
       "      <td>5.0</td>\n",
       "    </tr>\n",
       "    <tr>\n",
       "      <th>2</th>\n",
       "      <td>0.0</td>\n",
       "      <td>0.0</td>\n",
       "      <td>0.0</td>\n",
       "      <td>0.0</td>\n",
       "      <td>0.0</td>\n",
       "      <td>0.0</td>\n",
       "      <td>0.0</td>\n",
       "      <td>3.0</td>\n",
       "      <td>0.0</td>\n",
       "      <td>0.0</td>\n",
       "      <td>0.0</td>\n",
       "      <td>0.0</td>\n",
       "      <td>0.0</td>\n",
       "      <td>0.0</td>\n",
       "      <td>0.0</td>\n",
       "      <td>0.0</td>\n",
       "      <td>0.0</td>\n",
       "      <td>0.0</td>\n",
       "    </tr>\n",
       "    <tr>\n",
       "      <th>3</th>\n",
       "      <td>0.0</td>\n",
       "      <td>0.0</td>\n",
       "      <td>0.0</td>\n",
       "      <td>0.0</td>\n",
       "      <td>0.0</td>\n",
       "      <td>0.0</td>\n",
       "      <td>0.0</td>\n",
       "      <td>0.0</td>\n",
       "      <td>0.0</td>\n",
       "      <td>0.0</td>\n",
       "      <td>0.5</td>\n",
       "      <td>0.0</td>\n",
       "      <td>0.0</td>\n",
       "      <td>0.0</td>\n",
       "      <td>0.0</td>\n",
       "      <td>0.0</td>\n",
       "      <td>0.0</td>\n",
       "      <td>0.0</td>\n",
       "    </tr>\n",
       "    <tr>\n",
       "      <th>4</th>\n",
       "      <td>0.0</td>\n",
       "      <td>2.0</td>\n",
       "      <td>0.0</td>\n",
       "      <td>0.0</td>\n",
       "      <td>0.0</td>\n",
       "      <td>5.0</td>\n",
       "      <td>1.0</td>\n",
       "      <td>0.0</td>\n",
       "      <td>0.0</td>\n",
       "      <td>0.0</td>\n",
       "      <td>0.0</td>\n",
       "      <td>0.0</td>\n",
       "      <td>5.0</td>\n",
       "      <td>0.0</td>\n",
       "      <td>5.0</td>\n",
       "      <td>1.0</td>\n",
       "      <td>5.0</td>\n",
       "      <td>2.0</td>\n",
       "    </tr>\n",
       "    <tr>\n",
       "      <th>5</th>\n",
       "      <td>4.0</td>\n",
       "      <td>0.0</td>\n",
       "      <td>4.0</td>\n",
       "      <td>4.0</td>\n",
       "      <td>3.0</td>\n",
       "      <td>0.0</td>\n",
       "      <td>5.0</td>\n",
       "      <td>3.0</td>\n",
       "      <td>0.0</td>\n",
       "      <td>0.0</td>\n",
       "      <td>5.0</td>\n",
       "      <td>3.0</td>\n",
       "      <td>0.0</td>\n",
       "      <td>0.0</td>\n",
       "      <td>0.0</td>\n",
       "      <td>0.0</td>\n",
       "      <td>0.0</td>\n",
       "      <td>0.0</td>\n",
       "    </tr>\n",
       "  </tbody>\n",
       "</table>\n",
       "</div>"
      ],
      "text/plain": [
       "movieId  1     47    50    110   150   260   296   318   356   480   527   \\\n",
       "userId                                                                      \n",
       "1         4.0   5.0   5.0   4.0   0.0   5.0   3.0   0.0   4.0   4.0   5.0   \n",
       "2         0.0   0.0   0.0   0.0   0.0   0.0   0.0   3.0   0.0   0.0   0.0   \n",
       "3         0.0   0.0   0.0   0.0   0.0   0.0   0.0   0.0   0.0   0.0   0.5   \n",
       "4         0.0   2.0   0.0   0.0   0.0   5.0   1.0   0.0   0.0   0.0   0.0   \n",
       "5         4.0   0.0   4.0   4.0   3.0   0.0   5.0   3.0   0.0   0.0   5.0   \n",
       "\n",
       "movieId  589   593   780   1196  2571  2858  2959  \n",
       "userId                                             \n",
       "1         0.0   4.0   3.0   5.0   5.0   5.0   5.0  \n",
       "2         0.0   0.0   0.0   0.0   0.0   0.0   0.0  \n",
       "3         0.0   0.0   0.0   0.0   0.0   0.0   0.0  \n",
       "4         0.0   5.0   0.0   5.0   1.0   5.0   2.0  \n",
       "5         3.0   0.0   0.0   0.0   0.0   0.0   0.0  "
      ]
     },
     "execution_count": 98,
     "metadata": {},
     "output_type": "execute_result"
    }
   ],
   "source": [
    "keep_movie = np.sum(df_movie_ratings!=0,0)>200\n",
    "df_D = df_movie_ratings.loc[:,keep_movie]\n",
    "df_D.head()"
   ]
  },
  {
   "cell_type": "markdown",
   "metadata": {},
   "source": [
    "Furthermore, we will throw out all the users which have not rated more than five movies."
   ]
  },
  {
   "cell_type": "code",
   "execution_count": 99,
   "metadata": {},
   "outputs": [
    {
     "data": {
      "text/plain": [
       "344"
      ]
     },
     "execution_count": 99,
     "metadata": {},
     "output_type": "execute_result"
    }
   ],
   "source": [
    "np.sum(np.sum(df_D!=0,1)>5)"
   ]
  },
  {
   "cell_type": "markdown",
   "metadata": {},
   "source": [
    "The resulting dataset has the userID as rows and movieIDs as columns. Hence, userID 1 and 4 addresses the first two rows of this dataset."
   ]
  },
  {
   "cell_type": "code",
   "execution_count": 100,
   "metadata": {},
   "outputs": [
    {
     "data": {
      "text/html": [
       "<div>\n",
       "<style scoped>\n",
       "    .dataframe tbody tr th:only-of-type {\n",
       "        vertical-align: middle;\n",
       "    }\n",
       "\n",
       "    .dataframe tbody tr th {\n",
       "        vertical-align: top;\n",
       "    }\n",
       "\n",
       "    .dataframe thead th {\n",
       "        text-align: right;\n",
       "    }\n",
       "</style>\n",
       "<table border=\"1\" class=\"dataframe\">\n",
       "  <thead>\n",
       "    <tr style=\"text-align: right;\">\n",
       "      <th>movieId</th>\n",
       "      <th>1</th>\n",
       "      <th>47</th>\n",
       "      <th>50</th>\n",
       "      <th>110</th>\n",
       "      <th>150</th>\n",
       "      <th>260</th>\n",
       "      <th>296</th>\n",
       "      <th>318</th>\n",
       "      <th>356</th>\n",
       "      <th>480</th>\n",
       "      <th>527</th>\n",
       "      <th>589</th>\n",
       "      <th>593</th>\n",
       "      <th>780</th>\n",
       "      <th>1196</th>\n",
       "      <th>2571</th>\n",
       "      <th>2858</th>\n",
       "      <th>2959</th>\n",
       "    </tr>\n",
       "    <tr>\n",
       "      <th>userId</th>\n",
       "      <th></th>\n",
       "      <th></th>\n",
       "      <th></th>\n",
       "      <th></th>\n",
       "      <th></th>\n",
       "      <th></th>\n",
       "      <th></th>\n",
       "      <th></th>\n",
       "      <th></th>\n",
       "      <th></th>\n",
       "      <th></th>\n",
       "      <th></th>\n",
       "      <th></th>\n",
       "      <th></th>\n",
       "      <th></th>\n",
       "      <th></th>\n",
       "      <th></th>\n",
       "      <th></th>\n",
       "    </tr>\n",
       "  </thead>\n",
       "  <tbody>\n",
       "    <tr>\n",
       "      <th>1</th>\n",
       "      <td>4.0</td>\n",
       "      <td>5.0</td>\n",
       "      <td>5.0</td>\n",
       "      <td>4.0</td>\n",
       "      <td>0.0</td>\n",
       "      <td>5.0</td>\n",
       "      <td>3.0</td>\n",
       "      <td>0.0</td>\n",
       "      <td>4.0</td>\n",
       "      <td>4.0</td>\n",
       "      <td>5.0</td>\n",
       "      <td>0.0</td>\n",
       "      <td>4.0</td>\n",
       "      <td>3.0</td>\n",
       "      <td>5.0</td>\n",
       "      <td>5.0</td>\n",
       "      <td>5.0</td>\n",
       "      <td>5.0</td>\n",
       "    </tr>\n",
       "    <tr>\n",
       "      <th>4</th>\n",
       "      <td>0.0</td>\n",
       "      <td>2.0</td>\n",
       "      <td>0.0</td>\n",
       "      <td>0.0</td>\n",
       "      <td>0.0</td>\n",
       "      <td>5.0</td>\n",
       "      <td>1.0</td>\n",
       "      <td>0.0</td>\n",
       "      <td>0.0</td>\n",
       "      <td>0.0</td>\n",
       "      <td>0.0</td>\n",
       "      <td>0.0</td>\n",
       "      <td>5.0</td>\n",
       "      <td>0.0</td>\n",
       "      <td>5.0</td>\n",
       "      <td>1.0</td>\n",
       "      <td>5.0</td>\n",
       "      <td>2.0</td>\n",
       "    </tr>\n",
       "    <tr>\n",
       "      <th>5</th>\n",
       "      <td>4.0</td>\n",
       "      <td>0.0</td>\n",
       "      <td>4.0</td>\n",
       "      <td>4.0</td>\n",
       "      <td>3.0</td>\n",
       "      <td>0.0</td>\n",
       "      <td>5.0</td>\n",
       "      <td>3.0</td>\n",
       "      <td>0.0</td>\n",
       "      <td>0.0</td>\n",
       "      <td>5.0</td>\n",
       "      <td>3.0</td>\n",
       "      <td>0.0</td>\n",
       "      <td>0.0</td>\n",
       "      <td>0.0</td>\n",
       "      <td>0.0</td>\n",
       "      <td>0.0</td>\n",
       "      <td>0.0</td>\n",
       "    </tr>\n",
       "    <tr>\n",
       "      <th>6</th>\n",
       "      <td>0.0</td>\n",
       "      <td>4.0</td>\n",
       "      <td>1.0</td>\n",
       "      <td>5.0</td>\n",
       "      <td>4.0</td>\n",
       "      <td>0.0</td>\n",
       "      <td>2.0</td>\n",
       "      <td>5.0</td>\n",
       "      <td>5.0</td>\n",
       "      <td>5.0</td>\n",
       "      <td>3.0</td>\n",
       "      <td>3.0</td>\n",
       "      <td>4.0</td>\n",
       "      <td>5.0</td>\n",
       "      <td>0.0</td>\n",
       "      <td>0.0</td>\n",
       "      <td>0.0</td>\n",
       "      <td>0.0</td>\n",
       "    </tr>\n",
       "    <tr>\n",
       "      <th>7</th>\n",
       "      <td>4.5</td>\n",
       "      <td>0.0</td>\n",
       "      <td>4.5</td>\n",
       "      <td>0.0</td>\n",
       "      <td>4.5</td>\n",
       "      <td>5.0</td>\n",
       "      <td>0.0</td>\n",
       "      <td>0.0</td>\n",
       "      <td>5.0</td>\n",
       "      <td>5.0</td>\n",
       "      <td>0.0</td>\n",
       "      <td>2.5</td>\n",
       "      <td>5.0</td>\n",
       "      <td>4.5</td>\n",
       "      <td>4.0</td>\n",
       "      <td>0.0</td>\n",
       "      <td>4.0</td>\n",
       "      <td>0.0</td>\n",
       "    </tr>\n",
       "  </tbody>\n",
       "</table>\n",
       "</div>"
      ],
      "text/plain": [
       "movieId  1     47    50    110   150   260   296   318   356   480   527   \\\n",
       "userId                                                                      \n",
       "1         4.0   5.0   5.0   4.0   0.0   5.0   3.0   0.0   4.0   4.0   5.0   \n",
       "4         0.0   2.0   0.0   0.0   0.0   5.0   1.0   0.0   0.0   0.0   0.0   \n",
       "5         4.0   0.0   4.0   4.0   3.0   0.0   5.0   3.0   0.0   0.0   5.0   \n",
       "6         0.0   4.0   1.0   5.0   4.0   0.0   2.0   5.0   5.0   5.0   3.0   \n",
       "7         4.5   0.0   4.5   0.0   4.5   5.0   0.0   0.0   5.0   5.0   0.0   \n",
       "\n",
       "movieId  589   593   780   1196  2571  2858  2959  \n",
       "userId                                             \n",
       "1         0.0   4.0   3.0   5.0   5.0   5.0   5.0  \n",
       "4         0.0   5.0   0.0   5.0   1.0   5.0   2.0  \n",
       "5         3.0   0.0   0.0   0.0   0.0   0.0   0.0  \n",
       "6         3.0   4.0   5.0   0.0   0.0   0.0   0.0  \n",
       "7         2.5   5.0   4.5   4.0   0.0   4.0   0.0  "
      ]
     },
     "execution_count": 100,
     "metadata": {},
     "output_type": "execute_result"
    }
   ],
   "source": [
    "keep_user = np.sum(df_D!=0,1)>5\n",
    "df_D = df_D.loc[keep_user,:]\n",
    "df_D.head()"
   ]
  },
  {
   "cell_type": "markdown",
   "metadata": {},
   "source": [
    "The movie number- title assignments are given as follows:"
   ]
  },
  {
   "cell_type": "code",
   "execution_count": 101,
   "metadata": {
    "scrolled": true
   },
   "outputs": [
    {
     "data": {
      "text/html": [
       "<div>\n",
       "<style scoped>\n",
       "    .dataframe tbody tr th:only-of-type {\n",
       "        vertical-align: middle;\n",
       "    }\n",
       "\n",
       "    .dataframe tbody tr th {\n",
       "        vertical-align: top;\n",
       "    }\n",
       "\n",
       "    .dataframe thead th {\n",
       "        text-align: right;\n",
       "    }\n",
       "</style>\n",
       "<table border=\"1\" class=\"dataframe\">\n",
       "  <thead>\n",
       "    <tr style=\"text-align: right;\">\n",
       "      <th></th>\n",
       "      <th>movieId</th>\n",
       "      <th>title</th>\n",
       "      <th>genres</th>\n",
       "    </tr>\n",
       "  </thead>\n",
       "  <tbody>\n",
       "    <tr>\n",
       "      <th>0</th>\n",
       "      <td>1</td>\n",
       "      <td>Toy Story (1995)</td>\n",
       "      <td>Adventure|Animation|Children|Comedy|Fantasy</td>\n",
       "    </tr>\n",
       "    <tr>\n",
       "      <th>43</th>\n",
       "      <td>47</td>\n",
       "      <td>Seven (a.k.a. Se7en) (1995)</td>\n",
       "      <td>Mystery|Thriller</td>\n",
       "    </tr>\n",
       "    <tr>\n",
       "      <th>46</th>\n",
       "      <td>50</td>\n",
       "      <td>Usual Suspects, The (1995)</td>\n",
       "      <td>Crime|Mystery|Thriller</td>\n",
       "    </tr>\n",
       "    <tr>\n",
       "      <th>97</th>\n",
       "      <td>110</td>\n",
       "      <td>Braveheart (1995)</td>\n",
       "      <td>Action|Drama|War</td>\n",
       "    </tr>\n",
       "    <tr>\n",
       "      <th>123</th>\n",
       "      <td>150</td>\n",
       "      <td>Apollo 13 (1995)</td>\n",
       "      <td>Adventure|Drama|IMAX</td>\n",
       "    </tr>\n",
       "    <tr>\n",
       "      <th>224</th>\n",
       "      <td>260</td>\n",
       "      <td>Star Wars: Episode IV - A New Hope (1977)</td>\n",
       "      <td>Action|Adventure|Sci-Fi</td>\n",
       "    </tr>\n",
       "    <tr>\n",
       "      <th>257</th>\n",
       "      <td>296</td>\n",
       "      <td>Pulp Fiction (1994)</td>\n",
       "      <td>Comedy|Crime|Drama|Thriller</td>\n",
       "    </tr>\n",
       "    <tr>\n",
       "      <th>277</th>\n",
       "      <td>318</td>\n",
       "      <td>Shawshank Redemption, The (1994)</td>\n",
       "      <td>Crime|Drama</td>\n",
       "    </tr>\n",
       "    <tr>\n",
       "      <th>314</th>\n",
       "      <td>356</td>\n",
       "      <td>Forrest Gump (1994)</td>\n",
       "      <td>Comedy|Drama|Romance|War</td>\n",
       "    </tr>\n",
       "    <tr>\n",
       "      <th>418</th>\n",
       "      <td>480</td>\n",
       "      <td>Jurassic Park (1993)</td>\n",
       "      <td>Action|Adventure|Sci-Fi|Thriller</td>\n",
       "    </tr>\n",
       "    <tr>\n",
       "      <th>461</th>\n",
       "      <td>527</td>\n",
       "      <td>Schindler's List (1993)</td>\n",
       "      <td>Drama|War</td>\n",
       "    </tr>\n",
       "    <tr>\n",
       "      <th>507</th>\n",
       "      <td>589</td>\n",
       "      <td>Terminator 2: Judgment Day (1991)</td>\n",
       "      <td>Action|Sci-Fi</td>\n",
       "    </tr>\n",
       "    <tr>\n",
       "      <th>510</th>\n",
       "      <td>593</td>\n",
       "      <td>Silence of the Lambs, The (1991)</td>\n",
       "      <td>Crime|Horror|Thriller</td>\n",
       "    </tr>\n",
       "    <tr>\n",
       "      <th>615</th>\n",
       "      <td>780</td>\n",
       "      <td>Independence Day (a.k.a. ID4) (1996)</td>\n",
       "      <td>Action|Adventure|Sci-Fi|Thriller</td>\n",
       "    </tr>\n",
       "    <tr>\n",
       "      <th>898</th>\n",
       "      <td>1196</td>\n",
       "      <td>Star Wars: Episode V - The Empire Strikes Back...</td>\n",
       "      <td>Action|Adventure|Sci-Fi</td>\n",
       "    </tr>\n",
       "    <tr>\n",
       "      <th>1939</th>\n",
       "      <td>2571</td>\n",
       "      <td>Matrix, The (1999)</td>\n",
       "      <td>Action|Sci-Fi|Thriller</td>\n",
       "    </tr>\n",
       "    <tr>\n",
       "      <th>2145</th>\n",
       "      <td>2858</td>\n",
       "      <td>American Beauty (1999)</td>\n",
       "      <td>Drama|Romance</td>\n",
       "    </tr>\n",
       "    <tr>\n",
       "      <th>2226</th>\n",
       "      <td>2959</td>\n",
       "      <td>Fight Club (1999)</td>\n",
       "      <td>Action|Crime|Drama|Thriller</td>\n",
       "    </tr>\n",
       "  </tbody>\n",
       "</table>\n",
       "</div>"
      ],
      "text/plain": [
       "      movieId                                              title  \\\n",
       "0           1                                   Toy Story (1995)   \n",
       "43         47                        Seven (a.k.a. Se7en) (1995)   \n",
       "46         50                         Usual Suspects, The (1995)   \n",
       "97        110                                  Braveheart (1995)   \n",
       "123       150                                   Apollo 13 (1995)   \n",
       "224       260          Star Wars: Episode IV - A New Hope (1977)   \n",
       "257       296                                Pulp Fiction (1994)   \n",
       "277       318                   Shawshank Redemption, The (1994)   \n",
       "314       356                                Forrest Gump (1994)   \n",
       "418       480                               Jurassic Park (1993)   \n",
       "461       527                            Schindler's List (1993)   \n",
       "507       589                  Terminator 2: Judgment Day (1991)   \n",
       "510       593                   Silence of the Lambs, The (1991)   \n",
       "615       780               Independence Day (a.k.a. ID4) (1996)   \n",
       "898      1196  Star Wars: Episode V - The Empire Strikes Back...   \n",
       "1939     2571                                 Matrix, The (1999)   \n",
       "2145     2858                             American Beauty (1999)   \n",
       "2226     2959                                  Fight Club (1999)   \n",
       "\n",
       "                                           genres  \n",
       "0     Adventure|Animation|Children|Comedy|Fantasy  \n",
       "43                               Mystery|Thriller  \n",
       "46                         Crime|Mystery|Thriller  \n",
       "97                               Action|Drama|War  \n",
       "123                          Adventure|Drama|IMAX  \n",
       "224                       Action|Adventure|Sci-Fi  \n",
       "257                   Comedy|Crime|Drama|Thriller  \n",
       "277                                   Crime|Drama  \n",
       "314                      Comedy|Drama|Romance|War  \n",
       "418              Action|Adventure|Sci-Fi|Thriller  \n",
       "461                                     Drama|War  \n",
       "507                                 Action|Sci-Fi  \n",
       "510                         Crime|Horror|Thriller  \n",
       "615              Action|Adventure|Sci-Fi|Thriller  \n",
       "898                       Action|Adventure|Sci-Fi  \n",
       "1939                       Action|Sci-Fi|Thriller  \n",
       "2145                                Drama|Romance  \n",
       "2226                  Action|Crime|Drama|Thriller  "
      ]
     },
     "execution_count": 101,
     "metadata": {},
     "output_type": "execute_result"
    }
   ],
   "source": [
    "movies.loc[movies['movieId'].isin(df_D.columns)]"
   ]
  },
  {
   "cell_type": "markdown",
   "metadata": {},
   "source": [
    "The resulting data matrix is given as follows:"
   ]
  },
  {
   "cell_type": "code",
   "execution_count": 102,
   "metadata": {},
   "outputs": [
    {
     "data": {
      "text/plain": [
       "(344, 18)"
      ]
     },
     "execution_count": 102,
     "metadata": {},
     "output_type": "execute_result"
    }
   ],
   "source": [
    "D = df_D.to_numpy()\n",
    "D.shape"
   ]
  },
  {
   "attachments": {},
   "cell_type": "markdown",
   "metadata": {},
   "source": [
    "Open question"
   ]
  },
  {
   "cell_type": "code",
   "execution_count": 103,
   "metadata": {},
   "outputs": [],
   "source": [
    "import random\n",
    "import copy"
   ]
  },
  {
   "cell_type": "code",
   "execution_count": 104,
   "metadata": {},
   "outputs": [],
   "source": [
    "def init_random(n, d, r):\n",
    "    \"\"\"\n",
    "    X <- Choose initial cluster centroids randomly\n",
    "    Y <- Choose random cluster assignment\n",
    "    \"\"\"\n",
    "    X = np.random.rand(d, r)*5\n",
    "    Y = np.zeros((n, r), dtype=np.int64)\n",
    "    for i, _ in enumerate(Y):\n",
    "        Y[i][random.randrange(5)] = 1\n",
    "\n",
    "    return X, Y\n",
    "\n",
    "\n",
    "def indicator_nonzero(D):\n",
    "    \"\"\"\n",
    "    Binary matrix to indicate observed values\n",
    "    \"\"\"\n",
    "    O = D.copy()\n",
    "    O[O > 0] = 1\n",
    "    return O\n",
    "\n",
    "\n",
    "def MSEO(D, O, X, Y):\n",
    "    \"\"\"\n",
    "    Mean squared error of observed observations\n",
    "    \"\"\"\n",
    "    seo = np.multiply(1/abs(O), (D - np.multiply(O,(Y.dot(np.transpose(X)))))**2)\n",
    "    return np.nanmean(seo)\n",
    "\n",
    "\n",
    "def matrixcompletion(D, r, t_max = 100, l = 0.00001, use_stopping: bool = True):\n",
    "    mseo_list = list()\n",
    "    n, d = D.shape\n",
    "    X, Y = init_random(n, d, r)\n",
    "    O = indicator_nonzero(D)\n",
    "    t = 1\n",
    "    \n",
    "    while t < t_max+1:\n",
    "        new_X = X\n",
    "        new_Y = Y\n",
    "        \n",
    "        for k in range(0, d):\n",
    "            O_x_k = np.zeros((n, n))\n",
    "            np.fill_diagonal(O_x_k, O[:, k])\n",
    "            inv_imp = np.linalg.inv(\n",
    "                            np.transpose(Y).dot(O_x_k).dot(Y) + l*np.identity(r)\n",
    "                        )\n",
    "            new_X[k] = np.transpose(D[:, k]).dot(Y).dot(inv_imp)\n",
    "            \n",
    "        for i in range(0, n):\n",
    "            O_y_i = np.zeros((d, d))\n",
    "            np.fill_diagonal(O_y_i, O[i, :])\n",
    "            inv_y_imp = np.linalg.inv(\n",
    "                            np.transpose(X).dot(O_y_i).dot(X) + l*np.identity(r)\n",
    "                        )\n",
    "            new_Y[i] = D[i, :].dot(X).dot(inv_y_imp)\n",
    "        \n",
    "        mseo_cal = MSEO(D, O, new_X, new_Y)\n",
    "        \n",
    "        # stopping criterion for l = 0.00001\n",
    "        if l == 0.00001 and use_stopping:\n",
    "            if len(mseo_list) > 10 and min(mseo_list) < 5 and \\\n",
    "                mseo_cal < 5 and mseo_cal > mseo_list[-1]:\n",
    "                return X, Y, mseo_list\n",
    "        \n",
    "        mseo_list.append(mseo_cal)\n",
    "        \n",
    "        X, Y = new_X, new_Y\n",
    "            \n",
    "        t+=1\n",
    "    \n",
    "    return X, Y, mseo_list\n",
    "    "
   ]
  },
  {
   "attachments": {},
   "cell_type": "markdown",
   "metadata": {},
   "source": [
    "5a"
   ]
  },
  {
   "cell_type": "code",
   "execution_count": 114,
   "metadata": {},
   "outputs": [
    {
     "name": "stderr",
     "output_type": "stream",
     "text": [
      "C:\\Users\\mingy\\AppData\\Local\\Temp\\ipykernel_3624\\2805318815.py:27: RuntimeWarning: divide by zero encountered in true_divide\n",
      "  seo = np.multiply(1/abs(O), (D - np.multiply(O,(Y.dot(np.transpose(X)))))**2)\n",
      "C:\\Users\\mingy\\AppData\\Local\\Temp\\ipykernel_3624\\2805318815.py:27: RuntimeWarning: invalid value encountered in multiply\n",
      "  seo = np.multiply(1/abs(O), (D - np.multiply(O,(Y.dot(np.transpose(X)))))**2)\n"
     ]
    },
    {
     "name": "stdout",
     "output_type": "stream",
     "text": [
      "Final mseo: 17.057260569017377\n",
      "Number of iterations 100\n"
     ]
    },
    {
     "data": {
      "image/png": "[encoded data removed]",
      "text/plain": [
       "<Figure size 432x288 with 1 Axes>"
      ]
     },
     "metadata": {
      "needs_background": "light"
     },
     "output_type": "display_data"
    }
   ],
   "source": [
    "\n",
    "X, Y, mseo_list = matrixcompletion(D, t_max=100, r=5, use_stopping=False)\n",
    "plt.plot(mseo_list)\n",
    "\n",
    "print(\"Final mseo:\", mseo_list[-1])\n",
    "print(\"Number of iterations\", len(mseo_list))"
   ]
  },
  {
   "attachments": {},
   "cell_type": "markdown",
   "metadata": {},
   "source": [
    "5c"
   ]
  },
  {
   "cell_type": "code",
   "execution_count": 120,
   "metadata": {},
   "outputs": [
    {
     "name": "stderr",
     "output_type": "stream",
     "text": [
      "C:\\Users\\mingy\\AppData\\Local\\Temp\\ipykernel_3624\\2805318815.py:27: RuntimeWarning: divide by zero encountered in true_divide\n",
      "  seo = np.multiply(1/abs(O), (D - np.multiply(O,(Y.dot(np.transpose(X)))))**2)\n",
      "C:\\Users\\mingy\\AppData\\Local\\Temp\\ipykernel_3624\\2805318815.py:27: RuntimeWarning: invalid value encountered in multiply\n",
      "  seo = np.multiply(1/abs(O), (D - np.multiply(O,(Y.dot(np.transpose(X)))))**2)\n"
     ]
    },
    {
     "name": "stdout",
     "output_type": "stream",
     "text": [
      "Final mseo: 2.6036422997559896\n",
      "Number of iterations 70\n"
     ]
    },
    {
     "data": {
      "image/png": "[encoded data removed]",
      "text/plain": [
       "<Figure size 432x288 with 1 Axes>"
      ]
     },
     "metadata": {
      "needs_background": "light"
     },
     "output_type": "display_data"
    }
   ],
   "source": [
    "X, Y, mseo_list = matrixcompletion(D, t_max=100, r=5)\n",
    "plt.plot(mseo_list)\n",
    "\n",
    "print(\"Final mseo:\", mseo_list[-1])\n",
    "\n",
    "print(\"Number of iterations\", len(mseo_list))"
   ]
  },
  {
   "attachments": {},
   "cell_type": "markdown",
   "metadata": {},
   "source": [
    "5d"
   ]
  },
  {
   "cell_type": "code",
   "execution_count": 107,
   "metadata": {},
   "outputs": [
    {
     "name": "stderr",
     "output_type": "stream",
     "text": [
      "C:\\Users\\mingy\\AppData\\Local\\Temp\\ipykernel_3624\\2805318815.py:27: RuntimeWarning: divide by zero encountered in true_divide\n",
      "  seo = np.multiply(1/abs(O), (D - np.multiply(O,(Y.dot(np.transpose(X)))))**2)\n",
      "C:\\Users\\mingy\\AppData\\Local\\Temp\\ipykernel_3624\\2805318815.py:27: RuntimeWarning: invalid value encountered in multiply\n",
      "  seo = np.multiply(1/abs(O), (D - np.multiply(O,(Y.dot(np.transpose(X)))))**2)\n"
     ]
    },
    {
     "name": "stdout",
     "output_type": "stream",
     "text": [
      "Last MSEO: 16.440805438730997\n"
     ]
    },
    {
     "data": {
      "text/plain": [
       "[<matplotlib.lines.Line2D at 0x21c1e286730>]"
      ]
     },
     "execution_count": 107,
     "metadata": {},
     "output_type": "execute_result"
    },
    {
     "data": {
      "image/png": "[encoded data removed]",
      "text/plain": [
       "<Figure size 432x288 with 1 Axes>"
      ]
     },
     "metadata": {
      "needs_background": "light"
     },
     "output_type": "display_data"
    }
   ],
   "source": [
    "X, Y, mseo_list = matrixcompletion(D, t_max=100, r=5, l=1)\n",
    "print(\"Last MSEO:\", mseo_list[-1])\n",
    "\n",
    "plt.plot(mseo_list)"
   ]
  },
  {
   "cell_type": "code",
   "execution_count": 108,
   "metadata": {},
   "outputs": [
    {
     "name": "stderr",
     "output_type": "stream",
     "text": [
      "C:\\Users\\mingy\\AppData\\Local\\Temp\\ipykernel_3624\\2805318815.py:27: RuntimeWarning: divide by zero encountered in true_divide\n",
      "  seo = np.multiply(1/abs(O), (D - np.multiply(O,(Y.dot(np.transpose(X)))))**2)\n",
      "C:\\Users\\mingy\\AppData\\Local\\Temp\\ipykernel_3624\\2805318815.py:27: RuntimeWarning: invalid value encountered in multiply\n",
      "  seo = np.multiply(1/abs(O), (D - np.multiply(O,(Y.dot(np.transpose(X)))))**2)\n"
     ]
    },
    {
     "name": "stdout",
     "output_type": "stream",
     "text": [
      "Last MSEO: 15.138009287995612\n"
     ]
    },
    {
     "data": {
      "text/plain": [
       "[<matplotlib.lines.Line2D at 0x21c1e0546d0>]"
      ]
     },
     "execution_count": 108,
     "metadata": {},
     "output_type": "execute_result"
    },
    {
     "data": {
      "image/png": "[encoded data removed]",
      "text/plain": [
       "<Figure size 432x288 with 1 Axes>"
      ]
     },
     "metadata": {
      "needs_background": "light"
     },
     "output_type": "display_data"
    }
   ],
   "source": [
    "X, Y, mseo_list = matrixcompletion(D, t_max=100, r=5, l=0.5)\n",
    "print(\"Last MSEO:\", mseo_list[-1])\n",
    "plt.plot(mseo_list)"
   ]
  },
  {
   "cell_type": "code",
   "execution_count": 109,
   "metadata": {},
   "outputs": [
    {
     "name": "stderr",
     "output_type": "stream",
     "text": [
      "C:\\Users\\mingy\\AppData\\Local\\Temp\\ipykernel_3624\\2805318815.py:27: RuntimeWarning: divide by zero encountered in true_divide\n",
      "  seo = np.multiply(1/abs(O), (D - np.multiply(O,(Y.dot(np.transpose(X)))))**2)\n",
      "C:\\Users\\mingy\\AppData\\Local\\Temp\\ipykernel_3624\\2805318815.py:27: RuntimeWarning: invalid value encountered in multiply\n",
      "  seo = np.multiply(1/abs(O), (D - np.multiply(O,(Y.dot(np.transpose(X)))))**2)\n"
     ]
    },
    {
     "name": "stdout",
     "output_type": "stream",
     "text": [
      "Last MSEO: 16.565767908579254\n"
     ]
    },
    {
     "data": {
      "text/plain": [
       "[<matplotlib.lines.Line2D at 0x21c1fbb8280>]"
      ]
     },
     "execution_count": 109,
     "metadata": {},
     "output_type": "execute_result"
    },
    {
     "data": {
      "image/png": "[encoded data removed]",
      "text/plain": [
       "<Figure size 432x288 with 1 Axes>"
      ]
     },
     "metadata": {
      "needs_background": "light"
     },
     "output_type": "display_data"
    }
   ],
   "source": [
    "X, Y, mseo_list = matrixcompletion(D, t_max=100, r=5, l=0.1)\n",
    "print(\"Last MSEO:\", mseo_list[-1])\n",
    "plt.plot(mseo_list)"
   ]
  },
  {
   "cell_type": "code",
   "execution_count": 110,
   "metadata": {},
   "outputs": [
    {
     "name": "stderr",
     "output_type": "stream",
     "text": [
      "C:\\Users\\mingy\\AppData\\Local\\Temp\\ipykernel_3624\\2805318815.py:27: RuntimeWarning: divide by zero encountered in true_divide\n",
      "  seo = np.multiply(1/abs(O), (D - np.multiply(O,(Y.dot(np.transpose(X)))))**2)\n",
      "C:\\Users\\mingy\\AppData\\Local\\Temp\\ipykernel_3624\\2805318815.py:27: RuntimeWarning: invalid value encountered in multiply\n",
      "  seo = np.multiply(1/abs(O), (D - np.multiply(O,(Y.dot(np.transpose(X)))))**2)\n"
     ]
    },
    {
     "name": "stdout",
     "output_type": "stream",
     "text": [
      "Last MSEO: 17.056280173994324\n"
     ]
    },
    {
     "data": {
      "text/plain": [
       "[<matplotlib.lines.Line2D at 0x21c1e783220>]"
      ]
     },
     "execution_count": 110,
     "metadata": {},
     "output_type": "execute_result"
    },
    {
     "data": {
      "image/png": "[encoded data removed]",
      "text/plain": [
       "<Figure size 432x288 with 1 Axes>"
      ]
     },
     "metadata": {
      "needs_background": "light"
     },
     "output_type": "display_data"
    }
   ],
   "source": [
    "X, Y, mseo_list = matrixcompletion(D, t_max=100, r=5, l=0.0001)\n",
    "print(\"Last MSEO:\", mseo_list[-1])\n",
    "plt.plot(mseo_list)"
   ]
  },
  {
   "cell_type": "code",
   "execution_count": 111,
   "metadata": {},
   "outputs": [
    {
     "name": "stderr",
     "output_type": "stream",
     "text": [
      "C:\\Users\\mingy\\AppData\\Local\\Temp\\ipykernel_3624\\2805318815.py:27: RuntimeWarning: divide by zero encountered in true_divide\n",
      "  seo = np.multiply(1/abs(O), (D - np.multiply(O,(Y.dot(np.transpose(X)))))**2)\n",
      "C:\\Users\\mingy\\AppData\\Local\\Temp\\ipykernel_3624\\2805318815.py:27: RuntimeWarning: invalid value encountered in multiply\n",
      "  seo = np.multiply(1/abs(O), (D - np.multiply(O,(Y.dot(np.transpose(X)))))**2)\n"
     ]
    },
    {
     "name": "stdout",
     "output_type": "stream",
     "text": [
      "Last MSEO: 3.2203424687495192\n"
     ]
    },
    {
     "data": {
      "text/plain": [
       "[<matplotlib.lines.Line2D at 0x21c1dfb9dc0>]"
      ]
     },
     "execution_count": 111,
     "metadata": {},
     "output_type": "execute_result"
    },
    {
     "data": {
      "image/png": "[encoded data removed]",
      "text/plain": [
       "<Figure size 432x288 with 1 Axes>"
      ]
     },
     "metadata": {
      "needs_background": "light"
     },
     "output_type": "display_data"
    }
   ],
   "source": [
    "X, Y, mseo_list = matrixcompletion(D, t_max=100, r=5, l=0.00001)\n",
    "print(\"Last MSEO:\", mseo_list[-1])\n",
    "plt.plot(mseo_list)"
   ]
  }
 ],
 "metadata": {
  "kernelspec": {
   "display_name": "base",
   "language": "python",
   "name": "python3"
  },
  "language_info": {
   "codemirror_mode": {
    "name": "ipython",
    "version": 3
   },
   "file_extension": ".py",
   "mimetype": "text/x-python",
   "name": "python",
   "nbconvert_exporter": "python",
   "pygments_lexer": "ipython3",
   "version": "3.9.12"
  },
  "vscode": {
   "interpreter": {
    "hash": "447218537823dc48605bf3e3bcf0f395dabc5dc8aa93a3b4f8b9010990ed5cfe"
   }
  }
 },
 "nbformat": 4,
 "nbformat_minor": 2
}
